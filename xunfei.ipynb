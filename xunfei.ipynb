{
 "cells": [
  {
   "cell_type": "code",
   "execution_count": 260,
   "metadata": {},
   "outputs": [],
   "source": [
    "import tensorflow as tf\n",
    "from tensorflow import keras\n",
    "from tensorflow.keras import layers\n",
    "import pandas as pd\n",
    "import numpy as np\n",
    "from sklearn.model_selection import StratifiedKFold, KFold\n",
    "import math\n",
    "import datetime\n",
    "from sklearn.preprocessing import LabelEncoder"
   ]
  },
  {
   "cell_type": "code",
   "execution_count": 325,
   "metadata": {},
   "outputs": [],
   "source": [
    "train_data = pd.read_csv('保定2016年.csv')\n",
    "test_data = pd.read_csv('石家庄20160701-20170701.csv')"
   ]
  },
  {
   "cell_type": "code",
   "execution_count": 326,
   "metadata": {},
   "outputs": [
    {
     "data": {
      "text/html": [
       "<div>\n",
       "<style scoped>\n",
       "    .dataframe tbody tr th:only-of-type {\n",
       "        vertical-align: middle;\n",
       "    }\n",
       "\n",
       "    .dataframe tbody tr th {\n",
       "        vertical-align: top;\n",
       "    }\n",
       "\n",
       "    .dataframe thead th {\n",
       "        text-align: right;\n",
       "    }\n",
       "</style>\n",
       "<table border=\"1\" class=\"dataframe\">\n",
       "  <thead>\n",
       "    <tr style=\"text-align: right;\">\n",
       "      <th></th>\n",
       "      <th>日期</th>\n",
       "      <th>AQI</th>\n",
       "      <th>质量等级</th>\n",
       "      <th>PM2.5</th>\n",
       "      <th>PM10</th>\n",
       "      <th>SO2</th>\n",
       "      <th>CO</th>\n",
       "      <th>NO2</th>\n",
       "      <th>O3_8h</th>\n",
       "      <th>IPRC</th>\n",
       "    </tr>\n",
       "  </thead>\n",
       "  <tbody>\n",
       "    <tr>\n",
       "      <th>0</th>\n",
       "      <td>2016/1/1</td>\n",
       "      <td>293</td>\n",
       "      <td>重度污染</td>\n",
       "      <td>243</td>\n",
       "      <td>324</td>\n",
       "      <td>122</td>\n",
       "      <td>6.1</td>\n",
       "      <td>149</td>\n",
       "      <td>12</td>\n",
       "      <td>2.088378</td>\n",
       "    </tr>\n",
       "    <tr>\n",
       "      <th>1</th>\n",
       "      <td>2016/1/2</td>\n",
       "      <td>430</td>\n",
       "      <td>严重污染</td>\n",
       "      <td>395</td>\n",
       "      <td>517</td>\n",
       "      <td>138</td>\n",
       "      <td>7.5</td>\n",
       "      <td>180</td>\n",
       "      <td>18</td>\n",
       "      <td>3.316942</td>\n",
       "    </tr>\n",
       "    <tr>\n",
       "      <th>2</th>\n",
       "      <td>2016/1/3</td>\n",
       "      <td>332</td>\n",
       "      <td>严重污染</td>\n",
       "      <td>282</td>\n",
       "      <td>405</td>\n",
       "      <td>72</td>\n",
       "      <td>6.3</td>\n",
       "      <td>130</td>\n",
       "      <td>10</td>\n",
       "      <td>2.516425</td>\n",
       "    </tr>\n",
       "    <tr>\n",
       "      <th>3</th>\n",
       "      <td>2016/1/4</td>\n",
       "      <td>204</td>\n",
       "      <td>重度污染</td>\n",
       "      <td>154</td>\n",
       "      <td>237</td>\n",
       "      <td>73</td>\n",
       "      <td>3.5</td>\n",
       "      <td>72</td>\n",
       "      <td>34</td>\n",
       "      <td>1.505693</td>\n",
       "    </tr>\n",
       "    <tr>\n",
       "      <th>4</th>\n",
       "      <td>2016/1/5</td>\n",
       "      <td>169</td>\n",
       "      <td>中度污染</td>\n",
       "      <td>128</td>\n",
       "      <td>186</td>\n",
       "      <td>99</td>\n",
       "      <td>3.2</td>\n",
       "      <td>66</td>\n",
       "      <td>39</td>\n",
       "      <td>1.210233</td>\n",
       "    </tr>\n",
       "  </tbody>\n",
       "</table>\n",
       "</div>"
      ],
      "text/plain": [
       "         日期  AQI  质量等级  PM2.5  PM10  SO2   CO  NO2  O3_8h      IPRC\n",
       "0  2016/1/1  293  重度污染    243   324  122  6.1  149     12  2.088378\n",
       "1  2016/1/2  430  严重污染    395   517  138  7.5  180     18  3.316942\n",
       "2  2016/1/3  332  严重污染    282   405   72  6.3  130     10  2.516425\n",
       "3  2016/1/4  204  重度污染    154   237   73  3.5   72     34  1.505693\n",
       "4  2016/1/5  169  中度污染    128   186   99  3.2   66     39  1.210233"
      ]
     },
     "execution_count": 326,
     "metadata": {},
     "output_type": "execute_result"
    }
   ],
   "source": [
    "train_data.head()"
   ]
  },
  {
   "cell_type": "code",
   "execution_count": 327,
   "metadata": {},
   "outputs": [],
   "source": [
    "quality_le = LabelEncoder()\n",
    "quality_le.fit(train_data['质量等级'].values)\n",
    "train_data['质量等级'] = quality_le.transform(train_data['质量等级'].values) \n",
    "quality_le.fit(test_data['质量等级'].values)\n",
    "test_data['质量等级'] = quality_le.transform(test_data['质量等级'].values) "
   ]
  },
  {
   "cell_type": "code",
   "execution_count": 328,
   "metadata": {},
   "outputs": [
    {
     "data": {
      "text/html": [
       "<div>\n",
       "<style scoped>\n",
       "    .dataframe tbody tr th:only-of-type {\n",
       "        vertical-align: middle;\n",
       "    }\n",
       "\n",
       "    .dataframe tbody tr th {\n",
       "        vertical-align: top;\n",
       "    }\n",
       "\n",
       "    .dataframe thead th {\n",
       "        text-align: right;\n",
       "    }\n",
       "</style>\n",
       "<table border=\"1\" class=\"dataframe\">\n",
       "  <thead>\n",
       "    <tr style=\"text-align: right;\">\n",
       "      <th></th>\n",
       "      <th>日期</th>\n",
       "      <th>AQI</th>\n",
       "      <th>质量等级</th>\n",
       "      <th>PM2.5</th>\n",
       "      <th>PM10</th>\n",
       "      <th>SO2</th>\n",
       "      <th>CO</th>\n",
       "      <th>NO2</th>\n",
       "      <th>O3_8h</th>\n",
       "      <th>IPRC</th>\n",
       "    </tr>\n",
       "  </thead>\n",
       "  <tbody>\n",
       "    <tr>\n",
       "      <th>0</th>\n",
       "      <td>2016/1/1</td>\n",
       "      <td>293</td>\n",
       "      <td>5</td>\n",
       "      <td>243</td>\n",
       "      <td>324</td>\n",
       "      <td>122</td>\n",
       "      <td>6.1</td>\n",
       "      <td>149</td>\n",
       "      <td>12</td>\n",
       "      <td>2.088378</td>\n",
       "    </tr>\n",
       "    <tr>\n",
       "      <th>1</th>\n",
       "      <td>2016/1/2</td>\n",
       "      <td>430</td>\n",
       "      <td>0</td>\n",
       "      <td>395</td>\n",
       "      <td>517</td>\n",
       "      <td>138</td>\n",
       "      <td>7.5</td>\n",
       "      <td>180</td>\n",
       "      <td>18</td>\n",
       "      <td>3.316942</td>\n",
       "    </tr>\n",
       "    <tr>\n",
       "      <th>2</th>\n",
       "      <td>2016/1/3</td>\n",
       "      <td>332</td>\n",
       "      <td>0</td>\n",
       "      <td>282</td>\n",
       "      <td>405</td>\n",
       "      <td>72</td>\n",
       "      <td>6.3</td>\n",
       "      <td>130</td>\n",
       "      <td>10</td>\n",
       "      <td>2.516425</td>\n",
       "    </tr>\n",
       "    <tr>\n",
       "      <th>3</th>\n",
       "      <td>2016/1/4</td>\n",
       "      <td>204</td>\n",
       "      <td>5</td>\n",
       "      <td>154</td>\n",
       "      <td>237</td>\n",
       "      <td>73</td>\n",
       "      <td>3.5</td>\n",
       "      <td>72</td>\n",
       "      <td>34</td>\n",
       "      <td>1.505693</td>\n",
       "    </tr>\n",
       "    <tr>\n",
       "      <th>4</th>\n",
       "      <td>2016/1/5</td>\n",
       "      <td>169</td>\n",
       "      <td>1</td>\n",
       "      <td>128</td>\n",
       "      <td>186</td>\n",
       "      <td>99</td>\n",
       "      <td>3.2</td>\n",
       "      <td>66</td>\n",
       "      <td>39</td>\n",
       "      <td>1.210233</td>\n",
       "    </tr>\n",
       "  </tbody>\n",
       "</table>\n",
       "</div>"
      ],
      "text/plain": [
       "         日期  AQI  质量等级  PM2.5  PM10  SO2   CO  NO2  O3_8h      IPRC\n",
       "0  2016/1/1  293     5    243   324  122  6.1  149     12  2.088378\n",
       "1  2016/1/2  430     0    395   517  138  7.5  180     18  3.316942\n",
       "2  2016/1/3  332     0    282   405   72  6.3  130     10  2.516425\n",
       "3  2016/1/4  204     5    154   237   73  3.5   72     34  1.505693\n",
       "4  2016/1/5  169     1    128   186   99  3.2   66     39  1.210233"
      ]
     },
     "execution_count": 328,
     "metadata": {},
     "output_type": "execute_result"
    }
   ],
   "source": [
    "train_data.head()"
   ]
  },
  {
   "cell_type": "code",
   "execution_count": 329,
   "metadata": {},
   "outputs": [],
   "source": [
    "x_train = np.array(train_data.values[:, 1:-1]).astype('float64')\n",
    "y_train = np.array(train_data.values[:, -1]).astype('float64')\n",
    "x_test = np.array(test_data.values[:, 1:]).astype('float64')"
   ]
  },
  {
   "cell_type": "code",
   "execution_count": 330,
   "metadata": {},
   "outputs": [
    {
     "data": {
      "text/plain": [
       "array([[293. ,   5. , 243. , ...,   6.1, 149. ,  12. ],\n",
       "       [430. ,   0. , 395. , ...,   7.5, 180. ,  18. ],\n",
       "       [332. ,   0. , 282. , ...,   6.3, 130. ,  10. ],\n",
       "       ...,\n",
       "       [328. ,   0. , 278. , ...,   4.5,  96. ,  13. ],\n",
       "       [279. ,   5. , 229. , ...,   3.7,  92. ,  11. ],\n",
       "       [377. ,   0. , 327. , ...,   6.7, 117. ,   9. ]])"
      ]
     },
     "execution_count": 330,
     "metadata": {},
     "output_type": "execute_result"
    }
   ],
   "source": [
    "x_train"
   ]
  },
  {
   "cell_type": "code",
   "execution_count": 331,
   "metadata": {},
   "outputs": [],
   "source": [
    "mean = np.mean(x_train, axis = 0) \n",
    "std = np.std(x_train, axis = 0)\n",
    "for i in range(x_train.shape[0]):\n",
    "    for j in range(x_train.shape[1]):\n",
    "        if not std[j] == 0 :\n",
    "            x_train[i][j] = (x_train[i][j]- mean[j]) / std[j]"
   ]
  },
  {
   "cell_type": "code",
   "execution_count": 332,
   "metadata": {},
   "outputs": [],
   "source": [
    "# mean = np.mean(x_train, axis = 0) \n",
    "# std = np.std(x_train, axis = 0)\n",
    "for i in range(x_test.shape[0]):\n",
    "    for j in range(x_test.shape[1]):\n",
    "        if not std[j] == 0 :\n",
    "            x_test[i][j] = (x_test[i][j]- mean[j]) / std[j]"
   ]
  },
  {
   "cell_type": "code",
   "execution_count": 221,
   "metadata": {},
   "outputs": [],
   "source": [
    "import seaborn as sns\n",
    "import matplotlib.pyplot as plt\n",
    "sns.set()"
   ]
  },
  {
   "cell_type": "code",
   "execution_count": 333,
   "metadata": {},
   "outputs": [
    {
     "data": {
      "text/plain": [
       "array([ 2.17168779,  1.46391351,  2.17122922,  1.97048821,  2.97623229,\n",
       "        3.31018235,  3.25580701, -1.4521449 ])"
      ]
     },
     "execution_count": 333,
     "metadata": {},
     "output_type": "execute_result"
    }
   ],
   "source": [
    "x_train[0]"
   ]
  },
  {
   "cell_type": "code",
   "execution_count": 224,
   "metadata": {},
   "outputs": [],
   "source": [
    "from sklearn.linear_model import LinearRegression\n",
    "from sklearn.preprocessing import PolynomialFeatures"
   ]
  },
  {
   "cell_type": "code",
   "execution_count": null,
   "metadata": {},
   "outputs": [],
   "source": []
  },
  {
   "cell_type": "code",
   "execution_count": 184,
   "metadata": {},
   "outputs": [],
   "source": [
    "import xgboost as xgb\n",
    "from sklearn.model_selection  import train_test_split\n",
    "from sklearn.metrics import mean_squared_error"
   ]
  },
  {
   "cell_type": "code",
   "execution_count": 279,
   "metadata": {},
   "outputs": [
    {
     "data": {
      "text/plain": [
       "<xgboost.core.DMatrix at 0x7f83ca8b5710>"
      ]
     },
     "execution_count": 279,
     "metadata": {},
     "output_type": "execute_result"
    }
   ],
   "source": [
    "dtrain = xgb.DMatrix(x_train, label=y_train)\n",
    "dtest = xgb.DMatrix(x_test)\n",
    "dtrain"
   ]
  },
  {
   "cell_type": "code",
   "execution_count": 280,
   "metadata": {},
   "outputs": [
    {
     "name": "stdout",
     "output_type": "stream",
     "text": [
      "[08:16:55] WARNING: ../src/objective/regression_obj.cu:170: reg:linear is now deprecated in favor of reg:squarederror.\n",
      "[08:16:55] WARNING: ../src/learner.cc:541: \n",
      "Parameters: { silent } might not be used.\n",
      "\n",
      "  This may not be accurate due to some parameters are only used in language bindings but\n",
      "  passed down to XGBoost core.  Or some parameters are not used but slip through this\n",
      "  verification. Please open an issue if you find above cases.\n",
      "\n",
      "\n"
     ]
    }
   ],
   "source": [
    "# XGBoost模型构建\n",
    "# 1. 参数构建\n",
    "params = {'max_depth':2, 'eta':1, 'silent':1, 'objective':'reg:linear'}\n",
    "num_round = 2\n",
    "# 2. 模型训练\n",
    "bst = xgb.train(params, dtrain, num_round)\n",
    "# 3. 模型保存\n",
    "# bst.save_model('xgb.model') "
   ]
  },
  {
   "cell_type": "code",
   "execution_count": 281,
   "metadata": {},
   "outputs": [],
   "source": [
    "y_pred = bst.predict(dtest)\n",
    "# print(mean_squared_error(y_test, y_pred))"
   ]
  },
  {
   "cell_type": "code",
   "execution_count": 282,
   "metadata": {},
   "outputs": [
    {
     "data": {
      "text/plain": [
       "(366,)"
      ]
     },
     "execution_count": 282,
     "metadata": {},
     "output_type": "execute_result"
    }
   ],
   "source": [
    "y_pred.shape"
   ]
  },
  {
   "cell_type": "code",
   "execution_count": 283,
   "metadata": {},
   "outputs": [
    {
     "data": {
      "text/plain": [
       "0.43104538"
      ]
     },
     "execution_count": 283,
     "metadata": {},
     "output_type": "execute_result"
    }
   ],
   "source": [
    "y_pred[0]"
   ]
  },
  {
   "cell_type": "code",
   "execution_count": 334,
   "metadata": {},
   "outputs": [],
   "source": [
    "model = keras.Sequential(\n",
    "    [\n",
    "        layers.Dense(64, activation='relu', name='layer1'),\n",
    "        layers.Dense(128, activation='relu', name='layer2'),\n",
    "        layers.Dense(128, activation='relu', name='layer3'),\n",
    "        layers.Dense(64, activation='relu', name='layer4'),\n",
    "        layers.Dense(32, activation='relu', name='layer5'),\n",
    "        layers.Dense(1, activation='relu', name='layer6'),\n",
    "    ]\n",
    ")"
   ]
  },
  {
   "cell_type": "code",
   "execution_count": 335,
   "metadata": {},
   "outputs": [],
   "source": [
    "model.compile(loss='mse', optimizer='adam', metrics=['mae'])"
   ]
  },
  {
   "cell_type": "code",
   "execution_count": 336,
   "metadata": {},
   "outputs": [],
   "source": [
    "model.compile(loss='mse', optimizer='adam', metrics=[tf.keras.metrics.RootMeanSquaredError()])"
   ]
  },
  {
   "cell_type": "code",
   "execution_count": 382,
   "metadata": {},
   "outputs": [],
   "source": [
    "def kfold_train(model, train_data, test_data, x_train, x_test, model_title):\n",
    "    import time\n",
    "    now = time.strftime('%d-%m-%Y %H:%M:%S')\n",
    "    mean = np.mean(x_train, axis = 0) \n",
    "    std = np.std(x_train, axis = 0)\n",
    "    for i in range(x_train.shape[0]):\n",
    "        for j in range(x_train.shape[1]):\n",
    "            if not std[j] == 0 :\n",
    "                x_train[i][j] = (x_train[i][j]- mean[j]) / std[j]\n",
    "    \n",
    "    for i in range(x_test.shape[0]):\n",
    "        for j in range(x_test.shape[1]):\n",
    "            if not std[j] == 0 :\n",
    "                x_test[i][j] = (x_test[i][j]- mean[j]) / std[j]\n",
    "\n",
    "    answers = []\n",
    "    score = 0\n",
    "    n_fold = 5\n",
    "    folds = KFold(n_splits=n_fold, shuffle=True,random_state=1314)\n",
    "    for fold_n, (train_index, valid_index) in enumerate(folds.split(train_data)):\n",
    "        print(\"[==============================] --- kfold\")\n",
    "        X_train, X_valid = x_train[train_index], x_train[valid_index]\n",
    "        y_train, y_valid = train_data['IPRC'][train_index].values, train_data['IPRC'][valid_index].values\n",
    "    #     y_train = np.array(y_train)\n",
    "        model.fit(X_train, y_train, batch_size=64, epochs=30, verbose=1)\n",
    "        y_pre=model.predict(X_valid)\n",
    "        print('每一折验证分数:'+str(mean_squared_error(y_valid,y_pre)))\n",
    "        score = score + mean_squared_error(y_valid,y_pre)\n",
    "        y_pred_valid = model.predict(x_test)\n",
    "        answers.append(y_pred_valid)\n",
    "    model_pre=sum(answers)/n_fold\n",
    "    print('模型验证分数'+str(math.sqrt(score/n_fold)))\n",
    "    result=pd.DataFrame()\n",
    "    result['date']=test_data['日期']\n",
    "    result['IPRC']=model_pre\n",
    "    result.to_csv(f'./{now}-{model_title}-submit.csv',index=False)#保存结果"
   ]
  },
  {
   "cell_type": "code",
   "execution_count": 383,
   "metadata": {},
   "outputs": [
    {
     "name": "stdout",
     "output_type": "stream",
     "text": [
      "[==============================] --- kfold\n",
      "Epoch 1/30\n",
      "5/5 [==============================] - 0s 3ms/step - loss: 8.7536e-06 - root_mean_squared_error: 0.0030\n",
      "Epoch 2/30\n",
      "5/5 [==============================] - 0s 2ms/step - loss: 6.2497e-06 - root_mean_squared_error: 0.0025\n",
      "Epoch 3/30\n",
      "5/5 [==============================] - 0s 2ms/step - loss: 6.7322e-06 - root_mean_squared_error: 0.0026\n",
      "Epoch 4/30\n",
      "5/5 [==============================] - 0s 2ms/step - loss: 6.1272e-06 - root_mean_squared_error: 0.0025\n",
      "Epoch 5/30\n",
      "5/5 [==============================] - 0s 2ms/step - loss: 6.1373e-06 - root_mean_squared_error: 0.0025\n",
      "Epoch 6/30\n",
      "5/5 [==============================] - 0s 2ms/step - loss: 7.0505e-06 - root_mean_squared_error: 0.0027\n",
      "Epoch 7/30\n",
      "5/5 [==============================] - 0s 2ms/step - loss: 7.6992e-06 - root_mean_squared_error: 0.0028\n",
      "Epoch 8/30\n",
      "5/5 [==============================] - 0s 3ms/step - loss: 6.5359e-06 - root_mean_squared_error: 0.0026\n",
      "Epoch 9/30\n",
      "5/5 [==============================] - 0s 2ms/step - loss: 6.1844e-06 - root_mean_squared_error: 0.0025\n",
      "Epoch 10/30\n",
      "5/5 [==============================] - 0s 2ms/step - loss: 5.6537e-06 - root_mean_squared_error: 0.0024\n",
      "Epoch 11/30\n",
      "5/5 [==============================] - 0s 2ms/step - loss: 5.0351e-06 - root_mean_squared_error: 0.0022\n",
      "Epoch 12/30\n",
      "5/5 [==============================] - 0s 2ms/step - loss: 4.8722e-06 - root_mean_squared_error: 0.0022\n",
      "Epoch 13/30\n",
      "5/5 [==============================] - 0s 2ms/step - loss: 1.1136e-05 - root_mean_squared_error: 0.0033\n",
      "Epoch 14/30\n",
      "5/5 [==============================] - 0s 2ms/step - loss: 7.6223e-06 - root_mean_squared_error: 0.0028\n",
      "Epoch 15/30\n",
      "5/5 [==============================] - 0s 2ms/step - loss: 7.6633e-06 - root_mean_squared_error: 0.0028\n",
      "Epoch 16/30\n",
      "5/5 [==============================] - 0s 2ms/step - loss: 7.4165e-06 - root_mean_squared_error: 0.0027\n",
      "Epoch 17/30\n",
      "5/5 [==============================] - 0s 2ms/step - loss: 1.2714e-05 - root_mean_squared_error: 0.0036\n",
      "Epoch 18/30\n",
      "5/5 [==============================] - 0s 2ms/step - loss: 8.8816e-06 - root_mean_squared_error: 0.0030\n",
      "Epoch 19/30\n",
      "5/5 [==============================] - 0s 2ms/step - loss: 1.0642e-05 - root_mean_squared_error: 0.0033\n",
      "Epoch 20/30\n",
      "5/5 [==============================] - 0s 2ms/step - loss: 7.4638e-06 - root_mean_squared_error: 0.0027\n",
      "Epoch 21/30\n",
      "5/5 [==============================] - 0s 2ms/step - loss: 4.8811e-06 - root_mean_squared_error: 0.0022\n",
      "Epoch 22/30\n",
      "5/5 [==============================] - 0s 2ms/step - loss: 4.4559e-06 - root_mean_squared_error: 0.0021\n",
      "Epoch 23/30\n",
      "5/5 [==============================] - 0s 2ms/step - loss: 8.3693e-06 - root_mean_squared_error: 0.0029\n",
      "Epoch 24/30\n",
      "5/5 [==============================] - 0s 2ms/step - loss: 4.4292e-06 - root_mean_squared_error: 0.0021\n",
      "Epoch 25/30\n",
      "5/5 [==============================] - 0s 2ms/step - loss: 6.0162e-06 - root_mean_squared_error: 0.0025\n",
      "Epoch 26/30\n",
      "5/5 [==============================] - 0s 2ms/step - loss: 4.9311e-06 - root_mean_squared_error: 0.0022\n",
      "Epoch 27/30\n",
      "5/5 [==============================] - 0s 2ms/step - loss: 3.9269e-06 - root_mean_squared_error: 0.0020\n",
      "Epoch 28/30\n",
      "5/5 [==============================] - 0s 2ms/step - loss: 3.3693e-06 - root_mean_squared_error: 0.0018\n",
      "Epoch 29/30\n",
      "5/5 [==============================] - 0s 2ms/step - loss: 3.0911e-06 - root_mean_squared_error: 0.0018\n",
      "Epoch 30/30\n",
      "5/5 [==============================] - 0s 2ms/step - loss: 2.3477e-06 - root_mean_squared_error: 0.0015\n",
      "每一折验证分数:1.463104675774738e-05\n",
      "[==============================] --- kfold\n",
      "Epoch 1/30\n",
      "5/5 [==============================] - 0s 2ms/step - loss: 5.1378e-06 - root_mean_squared_error: 0.0023\n",
      "Epoch 2/30\n",
      "5/5 [==============================] - 0s 2ms/step - loss: 6.2584e-06 - root_mean_squared_error: 0.0025\n",
      "Epoch 3/30\n",
      "5/5 [==============================] - 0s 2ms/step - loss: 8.6052e-06 - root_mean_squared_error: 0.0029\n",
      "Epoch 4/30\n",
      "5/5 [==============================] - 0s 2ms/step - loss: 4.9339e-06 - root_mean_squared_error: 0.0022\n",
      "Epoch 5/30\n",
      "5/5 [==============================] - 0s 2ms/step - loss: 4.5170e-06 - root_mean_squared_error: 0.0021\n",
      "Epoch 6/30\n",
      "5/5 [==============================] - 0s 2ms/step - loss: 6.4770e-06 - root_mean_squared_error: 0.0025\n",
      "Epoch 7/30\n",
      "5/5 [==============================] - 0s 2ms/step - loss: 5.2948e-06 - root_mean_squared_error: 0.0023\n",
      "Epoch 8/30\n",
      "5/5 [==============================] - 0s 2ms/step - loss: 6.6419e-06 - root_mean_squared_error: 0.0026\n",
      "Epoch 9/30\n",
      "5/5 [==============================] - 0s 2ms/step - loss: 7.6677e-06 - root_mean_squared_error: 0.0028\n",
      "Epoch 10/30\n",
      "5/5 [==============================] - 0s 2ms/step - loss: 5.4113e-06 - root_mean_squared_error: 0.0023\n",
      "Epoch 11/30\n",
      "5/5 [==============================] - 0s 2ms/step - loss: 7.8000e-06 - root_mean_squared_error: 0.0028\n",
      "Epoch 12/30\n",
      "5/5 [==============================] - 0s 2ms/step - loss: 3.0361e-05 - root_mean_squared_error: 0.0055\n",
      "Epoch 13/30\n",
      "5/5 [==============================] - 0s 2ms/step - loss: 1.3159e-05 - root_mean_squared_error: 0.0036\n",
      "Epoch 14/30\n",
      "5/5 [==============================] - 0s 2ms/step - loss: 7.7740e-06 - root_mean_squared_error: 0.0028\n",
      "Epoch 15/30\n",
      "5/5 [==============================] - 0s 2ms/step - loss: 1.0246e-05 - root_mean_squared_error: 0.0032\n",
      "Epoch 16/30\n",
      "5/5 [==============================] - 0s 2ms/step - loss: 1.0736e-05 - root_mean_squared_error: 0.0033\n",
      "Epoch 17/30\n",
      "5/5 [==============================] - 0s 2ms/step - loss: 6.8359e-06 - root_mean_squared_error: 0.0026\n",
      "Epoch 18/30\n",
      "5/5 [==============================] - 0s 2ms/step - loss: 5.2836e-06 - root_mean_squared_error: 0.0023\n",
      "Epoch 19/30\n",
      "5/5 [==============================] - 0s 2ms/step - loss: 4.4046e-06 - root_mean_squared_error: 0.0021\n",
      "Epoch 20/30\n",
      "5/5 [==============================] - 0s 2ms/step - loss: 4.7828e-06 - root_mean_squared_error: 0.0022\n",
      "Epoch 21/30\n",
      "5/5 [==============================] - 0s 2ms/step - loss: 4.4349e-06 - root_mean_squared_error: 0.0021\n",
      "Epoch 22/30\n",
      "5/5 [==============================] - 0s 2ms/step - loss: 4.3201e-06 - root_mean_squared_error: 0.0021\n",
      "Epoch 23/30\n",
      "5/5 [==============================] - 0s 2ms/step - loss: 3.9590e-06 - root_mean_squared_error: 0.0020\n",
      "Epoch 24/30\n",
      "5/5 [==============================] - 0s 2ms/step - loss: 3.6305e-06 - root_mean_squared_error: 0.0019\n",
      "Epoch 25/30\n",
      "5/5 [==============================] - 0s 2ms/step - loss: 3.8093e-06 - root_mean_squared_error: 0.0020\n",
      "Epoch 26/30\n",
      "5/5 [==============================] - 0s 2ms/step - loss: 3.7943e-06 - root_mean_squared_error: 0.0019\n",
      "Epoch 27/30\n",
      "5/5 [==============================] - 0s 2ms/step - loss: 3.7949e-06 - root_mean_squared_error: 0.0019\n",
      "Epoch 28/30\n",
      "5/5 [==============================] - 0s 2ms/step - loss: 3.2173e-06 - root_mean_squared_error: 0.0018\n",
      "Epoch 29/30\n",
      "5/5 [==============================] - 0s 2ms/step - loss: 4.0972e-06 - root_mean_squared_error: 0.0020\n",
      "Epoch 30/30\n",
      "5/5 [==============================] - 0s 2ms/step - loss: 8.4277e-06 - root_mean_squared_error: 0.0029\n",
      "每一折验证分数:2.8504209932267252e-05\n",
      "[==============================] --- kfold\n",
      "Epoch 1/30\n",
      "5/5 [==============================] - 0s 2ms/step - loss: 1.2803e-05 - root_mean_squared_error: 0.0036\n",
      "Epoch 2/30\n",
      "5/5 [==============================] - 0s 2ms/step - loss: 6.7014e-06 - root_mean_squared_error: 0.0026\n",
      "Epoch 3/30\n",
      "5/5 [==============================] - 0s 2ms/step - loss: 4.8632e-06 - root_mean_squared_error: 0.0022\n",
      "Epoch 4/30\n",
      "5/5 [==============================] - 0s 2ms/step - loss: 3.7309e-06 - root_mean_squared_error: 0.0019\n",
      "Epoch 5/30\n",
      "5/5 [==============================] - 0s 2ms/step - loss: 2.9525e-06 - root_mean_squared_error: 0.0017\n",
      "Epoch 6/30\n",
      "5/5 [==============================] - 0s 2ms/step - loss: 4.3795e-06 - root_mean_squared_error: 0.0021\n",
      "Epoch 7/30\n",
      "5/5 [==============================] - 0s 2ms/step - loss: 4.1407e-06 - root_mean_squared_error: 0.0020\n",
      "Epoch 8/30\n",
      "5/5 [==============================] - 0s 2ms/step - loss: 2.9872e-06 - root_mean_squared_error: 0.0017\n",
      "Epoch 9/30\n",
      "5/5 [==============================] - 0s 2ms/step - loss: 2.9176e-06 - root_mean_squared_error: 0.0017\n",
      "Epoch 10/30\n",
      "5/5 [==============================] - 0s 2ms/step - loss: 5.9922e-06 - root_mean_squared_error: 0.0024\n",
      "Epoch 11/30\n",
      "5/5 [==============================] - 0s 2ms/step - loss: 4.3892e-06 - root_mean_squared_error: 0.0021\n",
      "Epoch 12/30\n",
      "5/5 [==============================] - 0s 2ms/step - loss: 6.2766e-06 - root_mean_squared_error: 0.0025\n",
      "Epoch 13/30\n",
      "5/5 [==============================] - 0s 2ms/step - loss: 6.7350e-06 - root_mean_squared_error: 0.0026\n",
      "Epoch 14/30\n",
      "5/5 [==============================] - 0s 2ms/step - loss: 5.4833e-06 - root_mean_squared_error: 0.0023\n",
      "Epoch 15/30\n",
      "5/5 [==============================] - 0s 2ms/step - loss: 9.9971e-06 - root_mean_squared_error: 0.0032\n",
      "Epoch 16/30\n",
      "5/5 [==============================] - 0s 2ms/step - loss: 9.4827e-06 - root_mean_squared_error: 0.0031\n",
      "Epoch 17/30\n",
      "5/5 [==============================] - 0s 2ms/step - loss: 1.1090e-05 - root_mean_squared_error: 0.0033\n",
      "Epoch 18/30\n",
      "5/5 [==============================] - 0s 2ms/step - loss: 1.6207e-05 - root_mean_squared_error: 0.0040\n",
      "Epoch 19/30\n",
      "5/5 [==============================] - 0s 2ms/step - loss: 1.0800e-05 - root_mean_squared_error: 0.0033\n",
      "Epoch 20/30\n",
      "5/5 [==============================] - 0s 2ms/step - loss: 1.6358e-05 - root_mean_squared_error: 0.0040\n",
      "Epoch 21/30\n",
      "5/5 [==============================] - 0s 2ms/step - loss: 1.0853e-05 - root_mean_squared_error: 0.0033\n",
      "Epoch 22/30\n",
      "5/5 [==============================] - 0s 2ms/step - loss: 8.3116e-06 - root_mean_squared_error: 0.0029\n",
      "Epoch 23/30\n",
      "5/5 [==============================] - 0s 2ms/step - loss: 1.0143e-05 - root_mean_squared_error: 0.0032\n",
      "Epoch 24/30\n",
      "5/5 [==============================] - 0s 2ms/step - loss: 5.7123e-06 - root_mean_squared_error: 0.0024\n",
      "Epoch 25/30\n",
      "5/5 [==============================] - 0s 2ms/step - loss: 5.5567e-06 - root_mean_squared_error: 0.0024\n",
      "Epoch 26/30\n",
      "5/5 [==============================] - 0s 2ms/step - loss: 3.3366e-06 - root_mean_squared_error: 0.0018\n",
      "Epoch 27/30\n",
      "5/5 [==============================] - 0s 2ms/step - loss: 4.7203e-06 - root_mean_squared_error: 0.0022\n",
      "Epoch 28/30\n",
      "5/5 [==============================] - 0s 2ms/step - loss: 2.9516e-06 - root_mean_squared_error: 0.0017\n",
      "Epoch 29/30\n",
      "5/5 [==============================] - 0s 2ms/step - loss: 2.2455e-06 - root_mean_squared_error: 0.0015\n",
      "Epoch 30/30\n",
      "5/5 [==============================] - 0s 2ms/step - loss: 3.0322e-06 - root_mean_squared_error: 0.0017\n",
      "每一折验证分数:1.838106334606023e-05\n",
      "[==============================] --- kfold\n",
      "Epoch 1/30\n",
      "5/5 [==============================] - 0s 3ms/step - loss: 1.0670e-05 - root_mean_squared_error: 0.0033\n",
      "Epoch 2/30\n",
      "5/5 [==============================] - 0s 5ms/step - loss: 1.4264e-05 - root_mean_squared_error: 0.0038\n",
      "Epoch 3/30\n",
      "5/5 [==============================] - 0s 2ms/step - loss: 2.8289e-05 - root_mean_squared_error: 0.0053\n",
      "Epoch 4/30\n",
      "5/5 [==============================] - 0s 2ms/step - loss: 1.9037e-05 - root_mean_squared_error: 0.0044\n",
      "Epoch 5/30\n",
      "5/5 [==============================] - 0s 2ms/step - loss: 1.7186e-05 - root_mean_squared_error: 0.0041\n",
      "Epoch 6/30\n",
      "5/5 [==============================] - 0s 2ms/step - loss: 3.0791e-05 - root_mean_squared_error: 0.0055\n",
      "Epoch 7/30\n",
      "5/5 [==============================] - 0s 2ms/step - loss: 3.1485e-05 - root_mean_squared_error: 0.0056\n",
      "Epoch 8/30\n",
      "5/5 [==============================] - 0s 2ms/step - loss: 4.8674e-05 - root_mean_squared_error: 0.0070\n",
      "Epoch 9/30\n",
      "5/5 [==============================] - 0s 2ms/step - loss: 3.0277e-05 - root_mean_squared_error: 0.0055\n",
      "Epoch 10/30\n",
      "5/5 [==============================] - 0s 3ms/step - loss: 1.7379e-05 - root_mean_squared_error: 0.0042\n",
      "Epoch 11/30\n",
      "5/5 [==============================] - 0s 2ms/step - loss: 1.8634e-05 - root_mean_squared_error: 0.0043\n",
      "Epoch 12/30\n",
      "5/5 [==============================] - 0s 2ms/step - loss: 2.1033e-05 - root_mean_squared_error: 0.0046\n",
      "Epoch 13/30\n",
      "5/5 [==============================] - 0s 2ms/step - loss: 2.0748e-05 - root_mean_squared_error: 0.0046\n",
      "Epoch 14/30\n",
      "5/5 [==============================] - 0s 2ms/step - loss: 1.6604e-05 - root_mean_squared_error: 0.0041\n",
      "Epoch 15/30\n",
      "5/5 [==============================] - 0s 2ms/step - loss: 1.1120e-05 - root_mean_squared_error: 0.0033\n",
      "Epoch 16/30\n",
      "5/5 [==============================] - 0s 2ms/step - loss: 9.8498e-06 - root_mean_squared_error: 0.0031\n",
      "Epoch 17/30\n",
      "5/5 [==============================] - 0s 2ms/step - loss: 1.1404e-05 - root_mean_squared_error: 0.0034\n",
      "Epoch 18/30\n",
      "5/5 [==============================] - 0s 2ms/step - loss: 8.4602e-06 - root_mean_squared_error: 0.0029\n",
      "Epoch 19/30\n",
      "5/5 [==============================] - 0s 2ms/step - loss: 9.7729e-06 - root_mean_squared_error: 0.0031\n",
      "Epoch 20/30\n",
      "5/5 [==============================] - 0s 2ms/step - loss: 1.2609e-05 - root_mean_squared_error: 0.0036\n",
      "Epoch 21/30\n",
      "5/5 [==============================] - 0s 2ms/step - loss: 1.3679e-05 - root_mean_squared_error: 0.0037\n",
      "Epoch 22/30\n",
      "5/5 [==============================] - 0s 2ms/step - loss: 4.6900e-06 - root_mean_squared_error: 0.0022\n",
      "Epoch 23/30\n",
      "5/5 [==============================] - 0s 2ms/step - loss: 4.3249e-06 - root_mean_squared_error: 0.0021\n",
      "Epoch 24/30\n",
      "5/5 [==============================] - 0s 2ms/step - loss: 7.5021e-06 - root_mean_squared_error: 0.0027\n",
      "Epoch 25/30\n",
      "5/5 [==============================] - 0s 2ms/step - loss: 1.5406e-05 - root_mean_squared_error: 0.0039\n",
      "Epoch 26/30\n",
      "5/5 [==============================] - 0s 2ms/step - loss: 1.9712e-05 - root_mean_squared_error: 0.0044\n",
      "Epoch 27/30\n",
      "5/5 [==============================] - 0s 3ms/step - loss: 3.3438e-05 - root_mean_squared_error: 0.0058\n",
      "Epoch 28/30\n",
      "5/5 [==============================] - 0s 3ms/step - loss: 7.7251e-06 - root_mean_squared_error: 0.0028\n",
      "Epoch 29/30\n",
      "5/5 [==============================] - 0s 3ms/step - loss: 1.7440e-05 - root_mean_squared_error: 0.0042\n",
      "Epoch 30/30\n",
      "5/5 [==============================] - 0s 2ms/step - loss: 3.3270e-05 - root_mean_squared_error: 0.0058\n",
      "每一折验证分数:3.309695078761363e-05\n",
      "[==============================] --- kfold\n",
      "Epoch 1/30\n",
      "5/5 [==============================] - 0s 2ms/step - loss: 2.8083e-05 - root_mean_squared_error: 0.0053\n",
      "Epoch 2/30\n",
      "5/5 [==============================] - 0s 2ms/step - loss: 2.4033e-05 - root_mean_squared_error: 0.0049\n",
      "Epoch 3/30\n",
      "5/5 [==============================] - 0s 2ms/step - loss: 2.3217e-05 - root_mean_squared_error: 0.0048\n",
      "Epoch 4/30\n",
      "5/5 [==============================] - 0s 2ms/step - loss: 3.6775e-05 - root_mean_squared_error: 0.0061\n",
      "Epoch 5/30\n",
      "5/5 [==============================] - 0s 2ms/step - loss: 8.1248e-05 - root_mean_squared_error: 0.0090\n",
      "Epoch 6/30\n",
      "5/5 [==============================] - 0s 2ms/step - loss: 2.5202e-05 - root_mean_squared_error: 0.0050\n",
      "Epoch 7/30\n",
      "5/5 [==============================] - 0s 3ms/step - loss: 4.3211e-05 - root_mean_squared_error: 0.0066\n",
      "Epoch 8/30\n",
      "5/5 [==============================] - 0s 2ms/step - loss: 4.4225e-05 - root_mean_squared_error: 0.0067\n",
      "Epoch 9/30\n",
      "5/5 [==============================] - 0s 2ms/step - loss: 3.8508e-05 - root_mean_squared_error: 0.0062\n",
      "Epoch 10/30\n",
      "5/5 [==============================] - 0s 2ms/step - loss: 2.7173e-05 - root_mean_squared_error: 0.0052\n",
      "Epoch 11/30\n",
      "5/5 [==============================] - 0s 2ms/step - loss: 1.7669e-05 - root_mean_squared_error: 0.0042\n",
      "Epoch 12/30\n",
      "5/5 [==============================] - 0s 2ms/step - loss: 1.9523e-05 - root_mean_squared_error: 0.0044\n",
      "Epoch 13/30\n",
      "5/5 [==============================] - 0s 2ms/step - loss: 1.9204e-05 - root_mean_squared_error: 0.0044\n",
      "Epoch 14/30\n",
      "5/5 [==============================] - 0s 2ms/step - loss: 1.9399e-05 - root_mean_squared_error: 0.0044\n",
      "Epoch 15/30\n",
      "5/5 [==============================] - 0s 2ms/step - loss: 2.3584e-05 - root_mean_squared_error: 0.0049\n",
      "Epoch 16/30\n",
      "5/5 [==============================] - 0s 2ms/step - loss: 3.9947e-05 - root_mean_squared_error: 0.0063\n",
      "Epoch 17/30\n",
      "5/5 [==============================] - 0s 2ms/step - loss: 5.5003e-05 - root_mean_squared_error: 0.0074\n",
      "Epoch 18/30\n",
      "5/5 [==============================] - 0s 2ms/step - loss: 1.0732e-04 - root_mean_squared_error: 0.0104\n",
      "Epoch 19/30\n",
      "5/5 [==============================] - 0s 2ms/step - loss: 6.5294e-05 - root_mean_squared_error: 0.0081\n",
      "Epoch 20/30\n",
      "5/5 [==============================] - 0s 2ms/step - loss: 5.6023e-05 - root_mean_squared_error: 0.0075\n",
      "Epoch 21/30\n",
      "5/5 [==============================] - 0s 2ms/step - loss: 1.3883e-04 - root_mean_squared_error: 0.0118\n",
      "Epoch 22/30\n",
      "5/5 [==============================] - 0s 2ms/step - loss: 1.6872e-04 - root_mean_squared_error: 0.0130\n",
      "Epoch 23/30\n",
      "5/5 [==============================] - 0s 2ms/step - loss: 2.5358e-04 - root_mean_squared_error: 0.0159\n",
      "Epoch 24/30\n",
      "5/5 [==============================] - 0s 2ms/step - loss: 1.2567e-04 - root_mean_squared_error: 0.0112\n",
      "Epoch 25/30\n",
      "5/5 [==============================] - 0s 2ms/step - loss: 5.1658e-05 - root_mean_squared_error: 0.0072\n",
      "Epoch 26/30\n",
      "5/5 [==============================] - 0s 2ms/step - loss: 7.3974e-05 - root_mean_squared_error: 0.0086\n",
      "Epoch 27/30\n",
      "5/5 [==============================] - 0s 2ms/step - loss: 8.5778e-05 - root_mean_squared_error: 0.0093\n",
      "Epoch 28/30\n",
      "5/5 [==============================] - 0s 2ms/step - loss: 5.0058e-05 - root_mean_squared_error: 0.0071\n",
      "Epoch 29/30\n",
      "5/5 [==============================] - 0s 2ms/step - loss: 7.3260e-05 - root_mean_squared_error: 0.0086\n",
      "Epoch 30/30\n",
      "5/5 [==============================] - 0s 2ms/step - loss: 6.3245e-05 - root_mean_squared_error: 0.0080\n",
      "每一折验证分数:4.544366133995131e-05\n",
      "模型验证分数0.005292578429530162\n"
     ]
    }
   ],
   "source": [
    "kfold_train(model, train_data, test_data, x_train, x_test, \"tf\")"
   ]
  },
  {
   "cell_type": "code",
   "execution_count": 370,
   "metadata": {},
   "outputs": [],
   "source": [
    "# answers = []\n",
    "# score = 0\n",
    "# n_fold = 5\n",
    "# folds = KFold(n_splits=n_fold, shuffle=True,random_state=1314)\n",
    "# for fold_n, (train_index, valid_index) in enumerate(folds.split(train_data)):\n",
    "#     print(\"[==============================] --- kfold\")\n",
    "#     X_train, X_valid = x_train[train_index], x_train[valid_index]\n",
    "#     y_train, y_valid = train_data['IPRC'][train_index].values, train_data['IPRC'][valid_index].values\n",
    "# #     y_train = np.array(y_train)\n",
    "#     model.fit(X_train, y_train, batch_size=64, epochs=30, verbose=1)\n",
    "#     y_pre=model.predict(X_valid)\n",
    "#     print('每一折验证分数:'+str(mean_squared_error(y_valid,y_pre)))\n",
    "#     score = score + mean_squared_error(y_valid,y_pre)\n",
    "#     y_pred_valid = model.predict(x_test)\n",
    "#     answers.append(y_pred_valid)"
   ]
  },
  {
   "cell_type": "code",
   "execution_count": 357,
   "metadata": {},
   "outputs": [
    {
     "data": {
      "text/plain": [
       "(293, 8)"
      ]
     },
     "execution_count": 357,
     "metadata": {},
     "output_type": "execute_result"
    }
   ],
   "source": [
    "X_train.shape"
   ]
  },
  {
   "cell_type": "code",
   "execution_count": 371,
   "metadata": {},
   "outputs": [],
   "source": [
    "# np.array(y_train)"
   ]
  },
  {
   "cell_type": "code",
   "execution_count": 319,
   "metadata": {},
   "outputs": [
    {
     "data": {
      "text/plain": [
       "array([ 2.17168779,  1.46391351,  2.17122922,  1.97048821,  2.97623229,\n",
       "        3.31018235,  3.25580701, -1.4521449 ])"
      ]
     },
     "execution_count": 319,
     "metadata": {},
     "output_type": "execute_result"
    }
   ],
   "source": [
    "x_train[0]"
   ]
  },
  {
   "cell_type": "code",
   "execution_count": 298,
   "metadata": {},
   "outputs": [
    {
     "data": {
      "text/html": [
       "<div>\n",
       "<style scoped>\n",
       "    .dataframe tbody tr th:only-of-type {\n",
       "        vertical-align: middle;\n",
       "    }\n",
       "\n",
       "    .dataframe tbody tr th {\n",
       "        vertical-align: top;\n",
       "    }\n",
       "\n",
       "    .dataframe thead th {\n",
       "        text-align: right;\n",
       "    }\n",
       "</style>\n",
       "<table border=\"1\" class=\"dataframe\">\n",
       "  <thead>\n",
       "    <tr style=\"text-align: right;\">\n",
       "      <th></th>\n",
       "      <th>日期</th>\n",
       "      <th>AQI</th>\n",
       "      <th>质量等级</th>\n",
       "      <th>PM2.5</th>\n",
       "      <th>PM10</th>\n",
       "      <th>SO2</th>\n",
       "      <th>CO</th>\n",
       "      <th>NO2</th>\n",
       "      <th>O3_8h</th>\n",
       "      <th>IPRC</th>\n",
       "    </tr>\n",
       "  </thead>\n",
       "  <tbody>\n",
       "    <tr>\n",
       "      <th>0</th>\n",
       "      <td>2016/1/1</td>\n",
       "      <td>293</td>\n",
       "      <td>5</td>\n",
       "      <td>243</td>\n",
       "      <td>324</td>\n",
       "      <td>122</td>\n",
       "      <td>6.1</td>\n",
       "      <td>149</td>\n",
       "      <td>12</td>\n",
       "      <td>2.088378</td>\n",
       "    </tr>\n",
       "    <tr>\n",
       "      <th>1</th>\n",
       "      <td>2016/1/2</td>\n",
       "      <td>430</td>\n",
       "      <td>0</td>\n",
       "      <td>395</td>\n",
       "      <td>517</td>\n",
       "      <td>138</td>\n",
       "      <td>7.5</td>\n",
       "      <td>180</td>\n",
       "      <td>18</td>\n",
       "      <td>3.316942</td>\n",
       "    </tr>\n",
       "    <tr>\n",
       "      <th>2</th>\n",
       "      <td>2016/1/3</td>\n",
       "      <td>332</td>\n",
       "      <td>0</td>\n",
       "      <td>282</td>\n",
       "      <td>405</td>\n",
       "      <td>72</td>\n",
       "      <td>6.3</td>\n",
       "      <td>130</td>\n",
       "      <td>10</td>\n",
       "      <td>2.516425</td>\n",
       "    </tr>\n",
       "    <tr>\n",
       "      <th>3</th>\n",
       "      <td>2016/1/4</td>\n",
       "      <td>204</td>\n",
       "      <td>5</td>\n",
       "      <td>154</td>\n",
       "      <td>237</td>\n",
       "      <td>73</td>\n",
       "      <td>3.5</td>\n",
       "      <td>72</td>\n",
       "      <td>34</td>\n",
       "      <td>1.505693</td>\n",
       "    </tr>\n",
       "    <tr>\n",
       "      <th>4</th>\n",
       "      <td>2016/1/5</td>\n",
       "      <td>169</td>\n",
       "      <td>1</td>\n",
       "      <td>128</td>\n",
       "      <td>186</td>\n",
       "      <td>99</td>\n",
       "      <td>3.2</td>\n",
       "      <td>66</td>\n",
       "      <td>39</td>\n",
       "      <td>1.210233</td>\n",
       "    </tr>\n",
       "  </tbody>\n",
       "</table>\n",
       "</div>"
      ],
      "text/plain": [
       "         日期  AQI  质量等级  PM2.5  PM10  SO2   CO  NO2  O3_8h      IPRC\n",
       "0  2016/1/1  293     5    243   324  122  6.1  149     12  2.088378\n",
       "1  2016/1/2  430     0    395   517  138  7.5  180     18  3.316942\n",
       "2  2016/1/3  332     0    282   405   72  6.3  130     10  2.516425\n",
       "3  2016/1/4  204     5    154   237   73  3.5   72     34  1.505693\n",
       "4  2016/1/5  169     1    128   186   99  3.2   66     39  1.210233"
      ]
     },
     "execution_count": 298,
     "metadata": {},
     "output_type": "execute_result"
    }
   ],
   "source": [
    "X_train.head()"
   ]
  },
  {
   "cell_type": "code",
   "execution_count": null,
   "metadata": {},
   "outputs": [],
   "source": [
    "kfold_train(model)"
   ]
  },
  {
   "cell_type": "code",
   "execution_count": 337,
   "metadata": {},
   "outputs": [
    {
     "name": "stdout",
     "output_type": "stream",
     "text": [
      "Epoch 1/30\n",
      "6/6 [==============================] - 0s 3ms/step - loss: 1.0272 - root_mean_squared_error: 1.0135\n",
      "Epoch 2/30\n",
      "6/6 [==============================] - 0s 3ms/step - loss: 0.3350 - root_mean_squared_error: 0.5788\n",
      "Epoch 3/30\n",
      "6/6 [==============================] - 0s 3ms/step - loss: 0.1136 - root_mean_squared_error: 0.3370\n",
      "Epoch 4/30\n",
      "6/6 [==============================] - 0s 3ms/step - loss: 0.0573 - root_mean_squared_error: 0.2394\n",
      "Epoch 5/30\n",
      "6/6 [==============================] - 0s 3ms/step - loss: 0.0395 - root_mean_squared_error: 0.1987\n",
      "Epoch 6/30\n",
      "6/6 [==============================] - 0s 2ms/step - loss: 0.0235 - root_mean_squared_error: 0.1533\n",
      "Epoch 7/30\n",
      "6/6 [==============================] - 0s 2ms/step - loss: 0.0180 - root_mean_squared_error: 0.1342\n",
      "Epoch 8/30\n",
      "6/6 [==============================] - 0s 3ms/step - loss: 0.0128 - root_mean_squared_error: 0.1130\n",
      "Epoch 9/30\n",
      "6/6 [==============================] - 0s 3ms/step - loss: 0.0099 - root_mean_squared_error: 0.0996\n",
      "Epoch 10/30\n",
      "6/6 [==============================] - 0s 3ms/step - loss: 0.0086 - root_mean_squared_error: 0.0927\n",
      "Epoch 11/30\n",
      "6/6 [==============================] - 0s 3ms/step - loss: 0.0073 - root_mean_squared_error: 0.0856\n",
      "Epoch 12/30\n",
      "6/6 [==============================] - 0s 3ms/step - loss: 0.0069 - root_mean_squared_error: 0.0831\n",
      "Epoch 13/30\n",
      "6/6 [==============================] - 0s 3ms/step - loss: 0.0065 - root_mean_squared_error: 0.0807\n",
      "Epoch 14/30\n",
      "6/6 [==============================] - 0s 3ms/step - loss: 0.0049 - root_mean_squared_error: 0.0703\n",
      "Epoch 15/30\n",
      "6/6 [==============================] - 0s 3ms/step - loss: 0.0044 - root_mean_squared_error: 0.0664\n",
      "Epoch 16/30\n",
      "6/6 [==============================] - 0s 3ms/step - loss: 0.0040 - root_mean_squared_error: 0.0634\n",
      "Epoch 17/30\n",
      "6/6 [==============================] - ETA: 0s - loss: 0.0037 - root_mean_squared_error: 0.061 - 0s 3ms/step - loss: 0.0036 - root_mean_squared_error: 0.0596\n",
      "Epoch 18/30\n",
      "6/6 [==============================] - 0s 3ms/step - loss: 0.0031 - root_mean_squared_error: 0.0561\n",
      "Epoch 19/30\n",
      "6/6 [==============================] - 0s 3ms/step - loss: 0.0027 - root_mean_squared_error: 0.0519\n",
      "Epoch 20/30\n",
      "6/6 [==============================] - 0s 2ms/step - loss: 0.0024 - root_mean_squared_error: 0.0491\n",
      "Epoch 21/30\n",
      "6/6 [==============================] - 0s 2ms/step - loss: 0.0022 - root_mean_squared_error: 0.0468\n",
      "Epoch 22/30\n",
      "6/6 [==============================] - 0s 3ms/step - loss: 0.0019 - root_mean_squared_error: 0.0441\n",
      "Epoch 23/30\n",
      "6/6 [==============================] - 0s 3ms/step - loss: 0.0017 - root_mean_squared_error: 0.0415\n",
      "Epoch 24/30\n",
      "6/6 [==============================] - 0s 3ms/step - loss: 0.0016 - root_mean_squared_error: 0.0399\n",
      "Epoch 25/30\n",
      "6/6 [==============================] - 0s 3ms/step - loss: 0.0014 - root_mean_squared_error: 0.0376\n",
      "Epoch 26/30\n",
      "6/6 [==============================] - 0s 3ms/step - loss: 0.0014 - root_mean_squared_error: 0.0369\n",
      "Epoch 27/30\n",
      "6/6 [==============================] - 0s 2ms/step - loss: 0.0012 - root_mean_squared_error: 0.0341\n",
      "Epoch 28/30\n",
      "6/6 [==============================] - 0s 2ms/step - loss: 0.0011 - root_mean_squared_error: 0.0335\n",
      "Epoch 29/30\n",
      "6/6 [==============================] - 0s 3ms/step - loss: 0.0010 - root_mean_squared_error: 0.0320\n",
      "Epoch 30/30\n",
      "6/6 [==============================] - 0s 3ms/step - loss: 9.7406e-04 - root_mean_squared_error: 0.0312\n"
     ]
    },
    {
     "data": {
      "text/plain": [
       "<tensorflow.python.keras.callbacks.History at 0x7f83cb154470>"
      ]
     },
     "execution_count": 337,
     "metadata": {},
     "output_type": "execute_result"
    }
   ],
   "source": [
    "model.fit(x_train, y_train, batch_size=64, epochs=30, verbose=1)"
   ]
  },
  {
   "cell_type": "code",
   "execution_count": 200,
   "metadata": {},
   "outputs": [
    {
     "data": {
      "text/plain": [
       "array([ 2.17122922,  1.97048821,  2.97623229,  3.31018235,  3.25580701,\n",
       "       -1.4521449 ])"
      ]
     },
     "execution_count": 200,
     "metadata": {},
     "output_type": "execute_result"
    }
   ],
   "source": [
    "x_train[0]"
   ]
  },
  {
   "cell_type": "code",
   "execution_count": 198,
   "metadata": {},
   "outputs": [
    {
     "data": {
      "text/plain": [
       "(6,)"
      ]
     },
     "execution_count": 198,
     "metadata": {},
     "output_type": "execute_result"
    }
   ],
   "source": [
    "x_test[0].shape"
   ]
  },
  {
   "cell_type": "code",
   "execution_count": 205,
   "metadata": {},
   "outputs": [],
   "source": [
    "# model.predict(x_test)"
   ]
  },
  {
   "cell_type": "code",
   "execution_count": 228,
   "metadata": {},
   "outputs": [
    {
     "data": {
      "text/plain": [
       "array([[0.375]], dtype=float32)"
      ]
     },
     "execution_count": 228,
     "metadata": {},
     "output_type": "execute_result"
    }
   ],
   "source": [
    "model.predict(x_test[0].reshape(1, 6)).round(3)"
   ]
  },
  {
   "cell_type": "code",
   "execution_count": 229,
   "metadata": {},
   "outputs": [],
   "source": [
    "tf_y_pred = model.predict(x_test)"
   ]
  },
  {
   "cell_type": "code",
   "execution_count": 207,
   "metadata": {},
   "outputs": [
    {
     "data": {
      "text/plain": [
       "(366, 1)"
      ]
     },
     "execution_count": 207,
     "metadata": {},
     "output_type": "execute_result"
    }
   ],
   "source": [
    "tf_y_pred.shape"
   ]
  },
  {
   "cell_type": "code",
   "execution_count": 237,
   "metadata": {},
   "outputs": [
    {
     "data": {
      "text/plain": [
       "Int64Index([0, 1], dtype='int64')"
      ]
     },
     "execution_count": 237,
     "metadata": {},
     "output_type": "execute_result"
    }
   ],
   "source": [
    "# tf_y_pred\n",
    "tf_y_pred_v1 = pd.read_csv(\"./tf_submit.csv\", header=None)\n",
    "tf_y_pred_v1.columns"
   ]
  },
  {
   "cell_type": "code",
   "execution_count": 251,
   "metadata": {},
   "outputs": [],
   "source": [
    "# tf_y_pred_v1.values[:, 1]"
   ]
  },
  {
   "cell_type": "code",
   "execution_count": 255,
   "metadata": {},
   "outputs": [
    {
     "data": {
      "text/plain": [
       "(366, 1)"
      ]
     },
     "execution_count": 255,
     "metadata": {},
     "output_type": "execute_result"
    }
   ],
   "source": [
    "tf_y_pred.shape"
   ]
  },
  {
   "cell_type": "code",
   "execution_count": 258,
   "metadata": {},
   "outputs": [
    {
     "data": {
      "text/plain": [
       "(366, 1)"
      ]
     },
     "execution_count": 258,
     "metadata": {},
     "output_type": "execute_result"
    }
   ],
   "source": [
    "tf_y_pred_v1.values[:, 1].reshape(x_test.shape[0], 1).shape"
   ]
  },
  {
   "cell_type": "code",
   "execution_count": 259,
   "metadata": {},
   "outputs": [
    {
     "data": {
      "text/plain": [
       "1.468087638531257"
      ]
     },
     "execution_count": 259,
     "metadata": {},
     "output_type": "execute_result"
    }
   ],
   "source": [
    "np.sum(np.power((tf_y_pred - tf_y_pred_v1.values[:, 1].reshape(x_test.shape[0], 1)), 2))"
   ]
  },
  {
   "cell_type": "code",
   "execution_count": null,
   "metadata": {},
   "outputs": [],
   "source": []
  },
  {
   "cell_type": "code",
   "execution_count": 209,
   "metadata": {},
   "outputs": [],
   "source": [
    "# tf_y_pred"
   ]
  },
  {
   "cell_type": "code",
   "execution_count": null,
   "metadata": {},
   "outputs": [],
   "source": [
    "# tf_y_pred"
   ]
  },
  {
   "cell_type": "code",
   "execution_count": 212,
   "metadata": {},
   "outputs": [],
   "source": [
    "import csv"
   ]
  },
  {
   "cell_type": "code",
   "execution_count": null,
   "metadata": {},
   "outputs": [],
   "source": []
  },
  {
   "cell_type": "code",
   "execution_count": 219,
   "metadata": {},
   "outputs": [],
   "source": [
    "f = open('tf_submit.csv', \"w\")\n",
    "w = csv.writer(f)\n",
    "title = [\"date\", \"IPRC\"]\n",
    "for i in range(x_test.shape[0]):\n",
    "    \n",
    "    content = ['date' + str(i), tf_y_pred[i][0]]\n",
    "    w.writerow(content)"
   ]
  },
  {
   "cell_type": "code",
   "execution_count": null,
   "metadata": {},
   "outputs": [],
   "source": []
  },
  {
   "cell_type": "code",
   "execution_count": null,
   "metadata": {},
   "outputs": [],
   "source": [
    "result=pd.DataFrame()\n",
    "result['date']=test_data['日期']\n",
    "result['IPRC']=y_pred\n",
    "result.to_csv('空气质量.csv',index=False)#保存结果"
   ]
  },
  {
   "cell_type": "code",
   "execution_count": null,
   "metadata": {},
   "outputs": [],
   "source": []
  }
 ],
 "metadata": {
  "kernelspec": {
   "display_name": "cic_upgrade_env",
   "language": "python",
   "name": "cic_upgrade_env"
  },
  "language_info": {
   "codemirror_mode": {
    "name": "ipython",
    "version": 3
   },
   "file_extension": ".py",
   "mimetype": "text/x-python",
   "name": "python",
   "nbconvert_exporter": "python",
   "pygments_lexer": "ipython3",
   "version": "3.6.6"
  }
 },
 "nbformat": 4,
 "nbformat_minor": 4
}
