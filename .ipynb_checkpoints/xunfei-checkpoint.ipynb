{
 "cells": [
  {
   "cell_type": "code",
   "execution_count": 260,
   "metadata": {},
   "outputs": [],
   "source": [
    "import tensorflow as tf\n",
    "from tensorflow import keras\n",
    "from tensorflow.keras import layers\n",
    "import pandas as pd\n",
    "import numpy as np\n",
    "from sklearn.model_selection import StratifiedKFold, KFold\n",
    "import math\n",
    "import datetime\n",
    "from sklearn.preprocessing import LabelEncoder"
   ]
  },
  {
   "cell_type": "code",
   "execution_count": 325,
   "metadata": {},
   "outputs": [],
   "source": [
    "train_data = pd.read_csv('保定2016年.csv')\n",
    "test_data = pd.read_csv('石家庄20160701-20170701.csv')"
   ]
  },
  {
   "cell_type": "code",
   "execution_count": 326,
   "metadata": {},
   "outputs": [
    {
     "data": {
      "text/html": [
       "<div>\n",
       "<style scoped>\n",
       "    .dataframe tbody tr th:only-of-type {\n",
       "        vertical-align: middle;\n",
       "    }\n",
       "\n",
       "    .dataframe tbody tr th {\n",
       "        vertical-align: top;\n",
       "    }\n",
       "\n",
       "    .dataframe thead th {\n",
       "        text-align: right;\n",
       "    }\n",
       "</style>\n",
       "<table border=\"1\" class=\"dataframe\">\n",
       "  <thead>\n",
       "    <tr style=\"text-align: right;\">\n",
       "      <th></th>\n",
       "      <th>日期</th>\n",
       "      <th>AQI</th>\n",
       "      <th>质量等级</th>\n",
       "      <th>PM2.5</th>\n",
       "      <th>PM10</th>\n",
       "      <th>SO2</th>\n",
       "      <th>CO</th>\n",
       "      <th>NO2</th>\n",
       "      <th>O3_8h</th>\n",
       "      <th>IPRC</th>\n",
       "    </tr>\n",
       "  </thead>\n",
       "  <tbody>\n",
       "    <tr>\n",
       "      <th>0</th>\n",
       "      <td>2016/1/1</td>\n",
       "      <td>293</td>\n",
       "      <td>重度污染</td>\n",
       "      <td>243</td>\n",
       "      <td>324</td>\n",
       "      <td>122</td>\n",
       "      <td>6.1</td>\n",
       "      <td>149</td>\n",
       "      <td>12</td>\n",
       "      <td>2.088378</td>\n",
       "    </tr>\n",
       "    <tr>\n",
       "      <th>1</th>\n",
       "      <td>2016/1/2</td>\n",
       "      <td>430</td>\n",
       "      <td>严重污染</td>\n",
       "      <td>395</td>\n",
       "      <td>517</td>\n",
       "      <td>138</td>\n",
       "      <td>7.5</td>\n",
       "      <td>180</td>\n",
       "      <td>18</td>\n",
       "      <td>3.316942</td>\n",
       "    </tr>\n",
       "    <tr>\n",
       "      <th>2</th>\n",
       "      <td>2016/1/3</td>\n",
       "      <td>332</td>\n",
       "      <td>严重污染</td>\n",
       "      <td>282</td>\n",
       "      <td>405</td>\n",
       "      <td>72</td>\n",
       "      <td>6.3</td>\n",
       "      <td>130</td>\n",
       "      <td>10</td>\n",
       "      <td>2.516425</td>\n",
       "    </tr>\n",
       "    <tr>\n",
       "      <th>3</th>\n",
       "      <td>2016/1/4</td>\n",
       "      <td>204</td>\n",
       "      <td>重度污染</td>\n",
       "      <td>154</td>\n",
       "      <td>237</td>\n",
       "      <td>73</td>\n",
       "      <td>3.5</td>\n",
       "      <td>72</td>\n",
       "      <td>34</td>\n",
       "      <td>1.505693</td>\n",
       "    </tr>\n",
       "    <tr>\n",
       "      <th>4</th>\n",
       "      <td>2016/1/5</td>\n",
       "      <td>169</td>\n",
       "      <td>中度污染</td>\n",
       "      <td>128</td>\n",
       "      <td>186</td>\n",
       "      <td>99</td>\n",
       "      <td>3.2</td>\n",
       "      <td>66</td>\n",
       "      <td>39</td>\n",
       "      <td>1.210233</td>\n",
       "    </tr>\n",
       "  </tbody>\n",
       "</table>\n",
       "</div>"
      ],
      "text/plain": [
       "         日期  AQI  质量等级  PM2.5  PM10  SO2   CO  NO2  O3_8h      IPRC\n",
       "0  2016/1/1  293  重度污染    243   324  122  6.1  149     12  2.088378\n",
       "1  2016/1/2  430  严重污染    395   517  138  7.5  180     18  3.316942\n",
       "2  2016/1/3  332  严重污染    282   405   72  6.3  130     10  2.516425\n",
       "3  2016/1/4  204  重度污染    154   237   73  3.5   72     34  1.505693\n",
       "4  2016/1/5  169  中度污染    128   186   99  3.2   66     39  1.210233"
      ]
     },
     "execution_count": 326,
     "metadata": {},
     "output_type": "execute_result"
    }
   ],
   "source": [
    "train_data.head()"
   ]
  },
  {
   "cell_type": "code",
   "execution_count": 327,
   "metadata": {},
   "outputs": [],
   "source": [
    "quality_le = LabelEncoder()\n",
    "quality_le.fit(train_data['质量等级'].values)\n",
    "train_data['质量等级'] = quality_le.transform(train_data['质量等级'].values) \n",
    "quality_le.fit(test_data['质量等级'].values)\n",
    "test_data['质量等级'] = quality_le.transform(test_data['质量等级'].values) "
   ]
  },
  {
   "cell_type": "code",
   "execution_count": 328,
   "metadata": {},
   "outputs": [
    {
     "data": {
      "text/html": [
       "<div>\n",
       "<style scoped>\n",
       "    .dataframe tbody tr th:only-of-type {\n",
       "        vertical-align: middle;\n",
       "    }\n",
       "\n",
       "    .dataframe tbody tr th {\n",
       "        vertical-align: top;\n",
       "    }\n",
       "\n",
       "    .dataframe thead th {\n",
       "        text-align: right;\n",
       "    }\n",
       "</style>\n",
       "<table border=\"1\" class=\"dataframe\">\n",
       "  <thead>\n",
       "    <tr style=\"text-align: right;\">\n",
       "      <th></th>\n",
       "      <th>日期</th>\n",
       "      <th>AQI</th>\n",
       "      <th>质量等级</th>\n",
       "      <th>PM2.5</th>\n",
       "      <th>PM10</th>\n",
       "      <th>SO2</th>\n",
       "      <th>CO</th>\n",
       "      <th>NO2</th>\n",
       "      <th>O3_8h</th>\n",
       "      <th>IPRC</th>\n",
       "    </tr>\n",
       "  </thead>\n",
       "  <tbody>\n",
       "    <tr>\n",
       "      <th>0</th>\n",
       "      <td>2016/1/1</td>\n",
       "      <td>293</td>\n",
       "      <td>5</td>\n",
       "      <td>243</td>\n",
       "      <td>324</td>\n",
       "      <td>122</td>\n",
       "      <td>6.1</td>\n",
       "      <td>149</td>\n",
       "      <td>12</td>\n",
       "      <td>2.088378</td>\n",
       "    </tr>\n",
       "    <tr>\n",
       "      <th>1</th>\n",
       "      <td>2016/1/2</td>\n",
       "      <td>430</td>\n",
       "      <td>0</td>\n",
       "      <td>395</td>\n",
       "      <td>517</td>\n",
       "      <td>138</td>\n",
       "      <td>7.5</td>\n",
       "      <td>180</td>\n",
       "      <td>18</td>\n",
       "      <td>3.316942</td>\n",
       "    </tr>\n",
       "    <tr>\n",
       "      <th>2</th>\n",
       "      <td>2016/1/3</td>\n",
       "      <td>332</td>\n",
       "      <td>0</td>\n",
       "      <td>282</td>\n",
       "      <td>405</td>\n",
       "      <td>72</td>\n",
       "      <td>6.3</td>\n",
       "      <td>130</td>\n",
       "      <td>10</td>\n",
       "      <td>2.516425</td>\n",
       "    </tr>\n",
       "    <tr>\n",
       "      <th>3</th>\n",
       "      <td>2016/1/4</td>\n",
       "      <td>204</td>\n",
       "      <td>5</td>\n",
       "      <td>154</td>\n",
       "      <td>237</td>\n",
       "      <td>73</td>\n",
       "      <td>3.5</td>\n",
       "      <td>72</td>\n",
       "      <td>34</td>\n",
       "      <td>1.505693</td>\n",
       "    </tr>\n",
       "    <tr>\n",
       "      <th>4</th>\n",
       "      <td>2016/1/5</td>\n",
       "      <td>169</td>\n",
       "      <td>1</td>\n",
       "      <td>128</td>\n",
       "      <td>186</td>\n",
       "      <td>99</td>\n",
       "      <td>3.2</td>\n",
       "      <td>66</td>\n",
       "      <td>39</td>\n",
       "      <td>1.210233</td>\n",
       "    </tr>\n",
       "  </tbody>\n",
       "</table>\n",
       "</div>"
      ],
      "text/plain": [
       "         日期  AQI  质量等级  PM2.5  PM10  SO2   CO  NO2  O3_8h      IPRC\n",
       "0  2016/1/1  293     5    243   324  122  6.1  149     12  2.088378\n",
       "1  2016/1/2  430     0    395   517  138  7.5  180     18  3.316942\n",
       "2  2016/1/3  332     0    282   405   72  6.3  130     10  2.516425\n",
       "3  2016/1/4  204     5    154   237   73  3.5   72     34  1.505693\n",
       "4  2016/1/5  169     1    128   186   99  3.2   66     39  1.210233"
      ]
     },
     "execution_count": 328,
     "metadata": {},
     "output_type": "execute_result"
    }
   ],
   "source": [
    "train_data.head()"
   ]
  },
  {
   "cell_type": "code",
   "execution_count": 329,
   "metadata": {},
   "outputs": [],
   "source": [
    "x_train = np.array(train_data.values[:, 1:-1]).astype('float64')\n",
    "y_train = np.array(train_data.values[:, -1]).astype('float64')\n",
    "x_test = np.array(test_data.values[:, 1:]).astype('float64')"
   ]
  },
  {
   "cell_type": "code",
   "execution_count": 330,
   "metadata": {},
   "outputs": [
    {
     "data": {
      "text/plain": [
       "array([[293. ,   5. , 243. , ...,   6.1, 149. ,  12. ],\n",
       "       [430. ,   0. , 395. , ...,   7.5, 180. ,  18. ],\n",
       "       [332. ,   0. , 282. , ...,   6.3, 130. ,  10. ],\n",
       "       ...,\n",
       "       [328. ,   0. , 278. , ...,   4.5,  96. ,  13. ],\n",
       "       [279. ,   5. , 229. , ...,   3.7,  92. ,  11. ],\n",
       "       [377. ,   0. , 327. , ...,   6.7, 117. ,   9. ]])"
      ]
     },
     "execution_count": 330,
     "metadata": {},
     "output_type": "execute_result"
    }
   ],
   "source": [
    "x_train"
   ]
  },
  {
   "cell_type": "code",
   "execution_count": 331,
   "metadata": {},
   "outputs": [],
   "source": [
    "mean = np.mean(x_train, axis = 0) \n",
    "std = np.std(x_train, axis = 0)\n",
    "for i in range(x_train.shape[0]):\n",
    "    for j in range(x_train.shape[1]):\n",
    "        if not std[j] == 0 :\n",
    "            x_train[i][j] = (x_train[i][j]- mean[j]) / std[j]"
   ]
  },
  {
   "cell_type": "code",
   "execution_count": 332,
   "metadata": {},
   "outputs": [],
   "source": [
    "# mean = np.mean(x_train, axis = 0) \n",
    "# std = np.std(x_train, axis = 0)\n",
    "for i in range(x_test.shape[0]):\n",
    "    for j in range(x_test.shape[1]):\n",
    "        if not std[j] == 0 :\n",
    "            x_test[i][j] = (x_test[i][j]- mean[j]) / std[j]"
   ]
  },
  {
   "cell_type": "code",
   "execution_count": 221,
   "metadata": {},
   "outputs": [],
   "source": [
    "import seaborn as sns\n",
    "import matplotlib.pyplot as plt\n",
    "sns.set()"
   ]
  },
  {
   "cell_type": "code",
   "execution_count": 333,
   "metadata": {},
   "outputs": [
    {
     "data": {
      "text/plain": [
       "array([ 2.17168779,  1.46391351,  2.17122922,  1.97048821,  2.97623229,\n",
       "        3.31018235,  3.25580701, -1.4521449 ])"
      ]
     },
     "execution_count": 333,
     "metadata": {},
     "output_type": "execute_result"
    }
   ],
   "source": [
    "x_train[0]"
   ]
  },
  {
   "cell_type": "code",
   "execution_count": 224,
   "metadata": {},
   "outputs": [],
   "source": [
    "from sklearn.linear_model import LinearRegression\n",
    "from sklearn.preprocessing import PolynomialFeatures"
   ]
  },
  {
   "cell_type": "code",
   "execution_count": null,
   "metadata": {},
   "outputs": [],
   "source": []
  },
  {
   "cell_type": "code",
   "execution_count": 184,
   "metadata": {},
   "outputs": [],
   "source": [
    "import xgboost as xgb\n",
    "from sklearn.model_selection  import train_test_split\n",
    "from sklearn.metrics import mean_squared_error"
   ]
  },
  {
   "cell_type": "code",
   "execution_count": 279,
   "metadata": {},
   "outputs": [
    {
     "data": {
      "text/plain": [
       "<xgboost.core.DMatrix at 0x7f83ca8b5710>"
      ]
     },
     "execution_count": 279,
     "metadata": {},
     "output_type": "execute_result"
    }
   ],
   "source": [
    "dtrain = xgb.DMatrix(x_train, label=y_train)\n",
    "dtest = xgb.DMatrix(x_test)\n",
    "dtrain"
   ]
  },
  {
   "cell_type": "code",
   "execution_count": 280,
   "metadata": {},
   "outputs": [
    {
     "name": "stdout",
     "output_type": "stream",
     "text": [
      "[08:16:55] WARNING: ../src/objective/regression_obj.cu:170: reg:linear is now deprecated in favor of reg:squarederror.\n",
      "[08:16:55] WARNING: ../src/learner.cc:541: \n",
      "Parameters: { silent } might not be used.\n",
      "\n",
      "  This may not be accurate due to some parameters are only used in language bindings but\n",
      "  passed down to XGBoost core.  Or some parameters are not used but slip through this\n",
      "  verification. Please open an issue if you find above cases.\n",
      "\n",
      "\n"
     ]
    }
   ],
   "source": [
    "# XGBoost模型构建\n",
    "# 1. 参数构建\n",
    "params = {'max_depth':2, 'eta':1, 'silent':1, 'objective':'reg:linear'}\n",
    "num_round = 2\n",
    "# 2. 模型训练\n",
    "bst = xgb.train(params, dtrain, num_round)\n",
    "# 3. 模型保存\n",
    "# bst.save_model('xgb.model') "
   ]
  },
  {
   "cell_type": "code",
   "execution_count": 281,
   "metadata": {},
   "outputs": [],
   "source": [
    "y_pred = bst.predict(dtest)\n",
    "# print(mean_squared_error(y_test, y_pred))"
   ]
  },
  {
   "cell_type": "code",
   "execution_count": 282,
   "metadata": {},
   "outputs": [
    {
     "data": {
      "text/plain": [
       "(366,)"
      ]
     },
     "execution_count": 282,
     "metadata": {},
     "output_type": "execute_result"
    }
   ],
   "source": [
    "y_pred.shape"
   ]
  },
  {
   "cell_type": "code",
   "execution_count": 283,
   "metadata": {},
   "outputs": [
    {
     "data": {
      "text/plain": [
       "0.43104538"
      ]
     },
     "execution_count": 283,
     "metadata": {},
     "output_type": "execute_result"
    }
   ],
   "source": [
    "y_pred[0]"
   ]
  },
  {
   "cell_type": "code",
   "execution_count": 334,
   "metadata": {},
   "outputs": [],
   "source": [
    "model = keras.Sequential(\n",
    "    [\n",
    "        layers.Dense(64, activation='relu', name='layer1'),\n",
    "        layers.Dense(128, activation='relu', name='layer2'),\n",
    "        layers.Dense(128, activation='relu', name='layer3'),\n",
    "        layers.Dense(64, activation='relu', name='layer4'),\n",
    "        layers.Dense(32, activation='relu', name='layer5'),\n",
    "        layers.Dense(1, activation='relu', name='layer6'),\n",
    "    ]\n",
    ")"
   ]
  },
  {
   "cell_type": "code",
   "execution_count": 335,
   "metadata": {},
   "outputs": [],
   "source": [
    "model.compile(loss='mse', optimizer='adam', metrics=['mae'])"
   ]
  },
  {
   "cell_type": "code",
   "execution_count": 336,
   "metadata": {},
   "outputs": [],
   "source": [
    "model.compile(loss='mse', optimizer='adam', metrics=[tf.keras.metrics.RootMeanSquaredError()])"
   ]
  },
  {
   "cell_type": "code",
   "execution_count": 378,
   "metadata": {},
   "outputs": [],
   "source": [
    "def kfold_train(model, train_data, x_train, x_test, model_title):\n",
    "    import time\n",
    "    now = time.strftime('%d-%m-%Y %H:%M:%S')\n",
    "    mean = np.mean(x_train, axis = 0) \n",
    "    std = np.std(x_train, axis = 0)\n",
    "    for i in range(x_train.shape[0]):\n",
    "        for j in range(x_train.shape[1]):\n",
    "            if not std[j] == 0 :\n",
    "                x_train[i][j] = (x_train[i][j]- mean[j]) / std[j]\n",
    "    \n",
    "    for i in range(x_test.shape[0]):\n",
    "        for j in range(x_test.shape[1]):\n",
    "            if not std[j] == 0 :\n",
    "                x_test[i][j] = (x_test[i][j]- mean[j]) / std[j]\n",
    "\n",
    "    answers = []\n",
    "    score = 0\n",
    "    n_fold = 5\n",
    "    folds = KFold(n_splits=n_fold, shuffle=True,random_state=1314)\n",
    "    for fold_n, (train_index, valid_index) in enumerate(folds.split(train_data)):\n",
    "        print(\"[==============================] --- kfold\")\n",
    "        X_train, X_valid = x_train[train_index], x_train[valid_index]\n",
    "        y_train, y_valid = train_data['IPRC'][train_index].values, train_data['IPRC'][valid_index].values\n",
    "    #     y_train = np.array(y_train)\n",
    "        model.fit(X_train, y_train, batch_size=64, epochs=30, verbose=1)\n",
    "        y_pre=model.predict(X_valid)\n",
    "        print('每一折验证分数:'+str(mean_squared_error(y_valid,y_pre)))\n",
    "        score = score + mean_squared_error(y_valid,y_pre)\n",
    "        y_pred_valid = model.predict(x_test)\n",
    "        answers.append(y_pred_valid)\n",
    "    model_pre=sum(answers)/n_fold\n",
    "    print('模型验证分数'+str(math.sqrt(score/n_fold)))\n",
    "    result=pd.DataFrame()\n",
    "    result['date']=test_data['日期']\n",
    "    result['IPRC']=model_pre\n",
    "    result.to_csv(f'{now}-{model_title}-submit.csv',index=False)#保存结果"
   ]
  },
  {
   "cell_type": "code",
   "execution_count": 379,
   "metadata": {},
   "outputs": [
    {
     "name": "stdout",
     "output_type": "stream",
     "text": [
      "[==============================] --- kfold\n",
      "Epoch 1/30\n",
      "5/5 [==============================] - 0s 3ms/step - loss: 0.0018 - root_mean_squared_error: 0.0428\n",
      "Epoch 2/30\n",
      "5/5 [==============================] - 0s 3ms/step - loss: 0.0014 - root_mean_squared_error: 0.0376\n",
      "Epoch 3/30\n",
      "5/5 [==============================] - 0s 3ms/step - loss: 5.7418e-04 - root_mean_squared_error: 0.0240\n",
      "Epoch 4/30\n",
      "5/5 [==============================] - 0s 3ms/step - loss: 6.0287e-04 - root_mean_squared_error: 0.0246\n",
      "Epoch 5/30\n",
      "5/5 [==============================] - 0s 3ms/step - loss: 4.4634e-04 - root_mean_squared_error: 0.0211\n",
      "Epoch 6/30\n",
      "5/5 [==============================] - 0s 3ms/step - loss: 2.7156e-04 - root_mean_squared_error: 0.0165\n",
      "Epoch 7/30\n",
      "5/5 [==============================] - 0s 3ms/step - loss: 1.8238e-04 - root_mean_squared_error: 0.0135\n",
      "Epoch 8/30\n",
      "5/5 [==============================] - 0s 2ms/step - loss: 2.2296e-04 - root_mean_squared_error: 0.0149\n",
      "Epoch 9/30\n",
      "5/5 [==============================] - 0s 3ms/step - loss: 1.8041e-04 - root_mean_squared_error: 0.0134\n",
      "Epoch 10/30\n",
      "5/5 [==============================] - 0s 3ms/step - loss: 1.5129e-04 - root_mean_squared_error: 0.0123\n",
      "Epoch 11/30\n",
      "5/5 [==============================] - 0s 3ms/step - loss: 1.3196e-04 - root_mean_squared_error: 0.0115\n",
      "Epoch 12/30\n",
      "5/5 [==============================] - 0s 3ms/step - loss: 7.0489e-05 - root_mean_squared_error: 0.0084\n",
      "Epoch 13/30\n",
      "5/5 [==============================] - 0s 3ms/step - loss: 6.1876e-05 - root_mean_squared_error: 0.0079\n",
      "Epoch 14/30\n",
      "5/5 [==============================] - 0s 3ms/step - loss: 2.3859e-05 - root_mean_squared_error: 0.0049\n",
      "Epoch 15/30\n",
      "5/5 [==============================] - 0s 3ms/step - loss: 2.7053e-05 - root_mean_squared_error: 0.0052\n",
      "Epoch 16/30\n",
      "5/5 [==============================] - 0s 3ms/step - loss: 1.7210e-05 - root_mean_squared_error: 0.0041\n",
      "Epoch 17/30\n",
      "5/5 [==============================] - 0s 3ms/step - loss: 1.9996e-05 - root_mean_squared_error: 0.0045\n",
      "Epoch 18/30\n",
      "5/5 [==============================] - 0s 3ms/step - loss: 1.8135e-05 - root_mean_squared_error: 0.0043\n",
      "Epoch 19/30\n",
      "5/5 [==============================] - 0s 3ms/step - loss: 1.4198e-05 - root_mean_squared_error: 0.0038\n",
      "Epoch 20/30\n",
      "5/5 [==============================] - 0s 3ms/step - loss: 9.7094e-06 - root_mean_squared_error: 0.0031\n",
      "Epoch 21/30\n",
      "5/5 [==============================] - 0s 3ms/step - loss: 7.1400e-06 - root_mean_squared_error: 0.0027\n",
      "Epoch 22/30\n",
      "5/5 [==============================] - 0s 2ms/step - loss: 9.5278e-06 - root_mean_squared_error: 0.0031\n",
      "Epoch 23/30\n",
      "5/5 [==============================] - 0s 2ms/step - loss: 1.0349e-05 - root_mean_squared_error: 0.0032\n",
      "Epoch 24/30\n",
      "5/5 [==============================] - 0s 2ms/step - loss: 8.2990e-06 - root_mean_squared_error: 0.0029\n",
      "Epoch 25/30\n",
      "5/5 [==============================] - 0s 2ms/step - loss: 7.6591e-06 - root_mean_squared_error: 0.0028\n",
      "Epoch 26/30\n",
      "5/5 [==============================] - 0s 2ms/step - loss: 6.5167e-06 - root_mean_squared_error: 0.0026\n",
      "Epoch 27/30\n",
      "5/5 [==============================] - 0s 2ms/step - loss: 4.7524e-06 - root_mean_squared_error: 0.0022\n",
      "Epoch 28/30\n",
      "5/5 [==============================] - 0s 2ms/step - loss: 3.9640e-06 - root_mean_squared_error: 0.0020\n",
      "Epoch 29/30\n",
      "5/5 [==============================] - 0s 2ms/step - loss: 4.2918e-06 - root_mean_squared_error: 0.0021\n",
      "Epoch 30/30\n",
      "5/5 [==============================] - 0s 2ms/step - loss: 4.7274e-06 - root_mean_squared_error: 0.0022\n",
      "每一折验证分数:0.00013586717381138615\n",
      "[==============================] --- kfold\n",
      "Epoch 1/30\n",
      "5/5 [==============================] - 0s 2ms/step - loss: 3.2145e-05 - root_mean_squared_error: 0.0057\n",
      "Epoch 2/30\n",
      "5/5 [==============================] - 0s 2ms/step - loss: 5.0036e-05 - root_mean_squared_error: 0.0071\n",
      "Epoch 3/30\n",
      "5/5 [==============================] - 0s 2ms/step - loss: 2.4235e-05 - root_mean_squared_error: 0.0049\n",
      "Epoch 4/30\n",
      "5/5 [==============================] - 0s 2ms/step - loss: 3.6315e-05 - root_mean_squared_error: 0.0060\n",
      "Epoch 5/30\n",
      "5/5 [==============================] - 0s 2ms/step - loss: 2.1375e-05 - root_mean_squared_error: 0.0046\n",
      "Epoch 6/30\n",
      "5/5 [==============================] - 0s 2ms/step - loss: 2.7115e-05 - root_mean_squared_error: 0.0052\n",
      "Epoch 7/30\n",
      "5/5 [==============================] - 0s 2ms/step - loss: 2.1792e-05 - root_mean_squared_error: 0.0047\n",
      "Epoch 8/30\n",
      "5/5 [==============================] - 0s 2ms/step - loss: 1.1952e-05 - root_mean_squared_error: 0.0035\n",
      "Epoch 9/30\n",
      "5/5 [==============================] - 0s 2ms/step - loss: 1.0853e-05 - root_mean_squared_error: 0.0033\n",
      "Epoch 10/30\n",
      "5/5 [==============================] - 0s 2ms/step - loss: 7.5669e-06 - root_mean_squared_error: 0.0028\n",
      "Epoch 11/30\n",
      "5/5 [==============================] - 0s 2ms/step - loss: 5.8991e-06 - root_mean_squared_error: 0.0024\n",
      "Epoch 12/30\n",
      "5/5 [==============================] - 0s 2ms/step - loss: 7.3743e-06 - root_mean_squared_error: 0.0027\n",
      "Epoch 13/30\n",
      "5/5 [==============================] - 0s 2ms/step - loss: 5.2786e-06 - root_mean_squared_error: 0.0023\n",
      "Epoch 14/30\n",
      "5/5 [==============================] - 0s 2ms/step - loss: 4.3997e-06 - root_mean_squared_error: 0.0021\n",
      "Epoch 15/30\n",
      "5/5 [==============================] - 0s 2ms/step - loss: 7.3999e-06 - root_mean_squared_error: 0.0027\n",
      "Epoch 16/30\n",
      "5/5 [==============================] - 0s 2ms/step - loss: 6.3529e-06 - root_mean_squared_error: 0.0025\n",
      "Epoch 17/30\n",
      "5/5 [==============================] - 0s 2ms/step - loss: 4.4396e-06 - root_mean_squared_error: 0.0021\n",
      "Epoch 18/30\n",
      "5/5 [==============================] - 0s 2ms/step - loss: 4.7200e-06 - root_mean_squared_error: 0.0022\n",
      "Epoch 19/30\n",
      "5/5 [==============================] - 0s 2ms/step - loss: 4.0233e-06 - root_mean_squared_error: 0.0020\n",
      "Epoch 20/30\n",
      "5/5 [==============================] - 0s 2ms/step - loss: 4.2245e-06 - root_mean_squared_error: 0.0021\n",
      "Epoch 21/30\n",
      "5/5 [==============================] - 0s 2ms/step - loss: 5.2591e-06 - root_mean_squared_error: 0.0023\n",
      "Epoch 22/30\n",
      "5/5 [==============================] - 0s 2ms/step - loss: 4.3665e-06 - root_mean_squared_error: 0.0021\n",
      "Epoch 23/30\n",
      "5/5 [==============================] - 0s 2ms/step - loss: 4.5384e-06 - root_mean_squared_error: 0.0021\n",
      "Epoch 24/30\n",
      "5/5 [==============================] - 0s 3ms/step - loss: 3.3756e-06 - root_mean_squared_error: 0.0018\n",
      "Epoch 25/30\n",
      "5/5 [==============================] - 0s 2ms/step - loss: 2.5136e-06 - root_mean_squared_error: 0.0016\n",
      "Epoch 26/30\n",
      "5/5 [==============================] - 0s 2ms/step - loss: 2.6514e-06 - root_mean_squared_error: 0.0016\n",
      "Epoch 27/30\n",
      "5/5 [==============================] - 0s 2ms/step - loss: 4.0085e-06 - root_mean_squared_error: 0.0020\n",
      "Epoch 28/30\n",
      "5/5 [==============================] - 0s 2ms/step - loss: 2.6197e-06 - root_mean_squared_error: 0.0016\n",
      "Epoch 29/30\n",
      "5/5 [==============================] - 0s 2ms/step - loss: 2.3913e-06 - root_mean_squared_error: 0.0015\n",
      "Epoch 30/30\n",
      "5/5 [==============================] - 0s 2ms/step - loss: 1.9233e-06 - root_mean_squared_error: 0.0014\n",
      "每一折验证分数:1.3199435736495248e-05\n",
      "[==============================] --- kfold\n",
      "Epoch 1/30\n",
      "5/5 [==============================] - 0s 3ms/step - loss: 7.2091e-06 - root_mean_squared_error: 0.0027\n",
      "Epoch 2/30\n",
      "5/5 [==============================] - 0s 3ms/step - loss: 6.4258e-06 - root_mean_squared_error: 0.0025\n",
      "Epoch 3/30\n",
      "5/5 [==============================] - 0s 3ms/step - loss: 1.2340e-05 - root_mean_squared_error: 0.0035\n",
      "Epoch 4/30\n",
      "5/5 [==============================] - 0s 3ms/step - loss: 1.2268e-05 - root_mean_squared_error: 0.0035\n",
      "Epoch 5/30\n",
      "5/5 [==============================] - 0s 3ms/step - loss: 1.4327e-05 - root_mean_squared_error: 0.0038\n",
      "Epoch 6/30\n",
      "5/5 [==============================] - 0s 3ms/step - loss: 1.3699e-05 - root_mean_squared_error: 0.0037\n",
      "Epoch 7/30\n",
      "5/5 [==============================] - 0s 3ms/step - loss: 1.6793e-05 - root_mean_squared_error: 0.0041\n",
      "Epoch 8/30\n",
      "5/5 [==============================] - 0s 2ms/step - loss: 1.1103e-05 - root_mean_squared_error: 0.0033\n",
      "Epoch 9/30\n",
      "5/5 [==============================] - 0s 2ms/step - loss: 2.3136e-05 - root_mean_squared_error: 0.0048\n",
      "Epoch 10/30\n",
      "5/5 [==============================] - 0s 3ms/step - loss: 9.2590e-06 - root_mean_squared_error: 0.0030\n",
      "Epoch 11/30\n",
      "5/5 [==============================] - 0s 3ms/step - loss: 6.4390e-06 - root_mean_squared_error: 0.0025\n",
      "Epoch 12/30\n",
      "5/5 [==============================] - 0s 3ms/step - loss: 4.9558e-06 - root_mean_squared_error: 0.0022\n",
      "Epoch 13/30\n",
      "5/5 [==============================] - 0s 3ms/step - loss: 6.0653e-06 - root_mean_squared_error: 0.0025\n",
      "Epoch 14/30\n",
      "5/5 [==============================] - 0s 3ms/step - loss: 5.3829e-06 - root_mean_squared_error: 0.0023\n",
      "Epoch 15/30\n",
      "5/5 [==============================] - 0s 3ms/step - loss: 5.9857e-06 - root_mean_squared_error: 0.0024\n",
      "Epoch 16/30\n",
      "5/5 [==============================] - 0s 3ms/step - loss: 4.5159e-06 - root_mean_squared_error: 0.0021\n",
      "Epoch 17/30\n",
      "5/5 [==============================] - 0s 3ms/step - loss: 4.3533e-06 - root_mean_squared_error: 0.0021\n",
      "Epoch 18/30\n",
      "5/5 [==============================] - 0s 3ms/step - loss: 2.3481e-06 - root_mean_squared_error: 0.0015\n",
      "Epoch 19/30\n",
      "5/5 [==============================] - 0s 3ms/step - loss: 2.3889e-06 - root_mean_squared_error: 0.0015\n",
      "Epoch 20/30\n",
      "5/5 [==============================] - 0s 2ms/step - loss: 1.7911e-06 - root_mean_squared_error: 0.0013\n",
      "Epoch 21/30\n",
      "5/5 [==============================] - 0s 2ms/step - loss: 2.4416e-06 - root_mean_squared_error: 0.0016\n",
      "Epoch 22/30\n",
      "5/5 [==============================] - 0s 2ms/step - loss: 2.4156e-06 - root_mean_squared_error: 0.0016\n",
      "Epoch 23/30\n",
      "5/5 [==============================] - 0s 3ms/step - loss: 5.1468e-06 - root_mean_squared_error: 0.0023\n",
      "Epoch 24/30\n",
      "5/5 [==============================] - 0s 3ms/step - loss: 6.6587e-06 - root_mean_squared_error: 0.0026\n",
      "Epoch 25/30\n",
      "5/5 [==============================] - 0s 2ms/step - loss: 6.0058e-06 - root_mean_squared_error: 0.0025\n",
      "Epoch 26/30\n",
      "5/5 [==============================] - 0s 2ms/step - loss: 8.0689e-06 - root_mean_squared_error: 0.0028\n",
      "Epoch 27/30\n",
      "5/5 [==============================] - 0s 2ms/step - loss: 1.9017e-05 - root_mean_squared_error: 0.0044\n",
      "Epoch 28/30\n",
      "5/5 [==============================] - 0s 2ms/step - loss: 1.8609e-05 - root_mean_squared_error: 0.0043\n",
      "Epoch 29/30\n",
      "5/5 [==============================] - 0s 2ms/step - loss: 2.8679e-05 - root_mean_squared_error: 0.0054\n",
      "Epoch 30/30\n",
      "5/5 [==============================] - 0s 2ms/step - loss: 2.3424e-05 - root_mean_squared_error: 0.0048\n",
      "每一折验证分数:4.0000161219361784e-05\n",
      "[==============================] --- kfold\n",
      "Epoch 1/30\n",
      "5/5 [==============================] - 0s 3ms/step - loss: 3.0246e-05 - root_mean_squared_error: 0.0055\n",
      "Epoch 2/30\n",
      "5/5 [==============================] - 0s 2ms/step - loss: 4.1915e-05 - root_mean_squared_error: 0.0065\n",
      "Epoch 3/30\n",
      "5/5 [==============================] - 0s 2ms/step - loss: 5.7871e-05 - root_mean_squared_error: 0.0076\n",
      "Epoch 4/30\n",
      "5/5 [==============================] - 0s 3ms/step - loss: 6.1739e-05 - root_mean_squared_error: 0.0079\n",
      "Epoch 5/30\n",
      "5/5 [==============================] - 0s 3ms/step - loss: 2.4989e-04 - root_mean_squared_error: 0.0158\n",
      "Epoch 6/30\n",
      "5/5 [==============================] - 0s 3ms/step - loss: 2.0647e-04 - root_mean_squared_error: 0.0144\n",
      "Epoch 7/30\n",
      "5/5 [==============================] - 0s 3ms/step - loss: 1.5774e-04 - root_mean_squared_error: 0.0126\n",
      "Epoch 8/30\n",
      "5/5 [==============================] - 0s 3ms/step - loss: 1.1115e-04 - root_mean_squared_error: 0.0105\n",
      "Epoch 9/30\n",
      "5/5 [==============================] - 0s 3ms/step - loss: 6.8081e-05 - root_mean_squared_error: 0.0083\n",
      "Epoch 10/30\n",
      "5/5 [==============================] - 0s 3ms/step - loss: 6.6507e-05 - root_mean_squared_error: 0.0082\n",
      "Epoch 11/30\n",
      "5/5 [==============================] - 0s 3ms/step - loss: 9.6824e-05 - root_mean_squared_error: 0.0098\n",
      "Epoch 12/30\n",
      "5/5 [==============================] - 0s 3ms/step - loss: 1.4349e-04 - root_mean_squared_error: 0.0120\n",
      "Epoch 13/30\n",
      "5/5 [==============================] - 0s 2ms/step - loss: 1.1430e-04 - root_mean_squared_error: 0.0107\n",
      "Epoch 14/30\n",
      "5/5 [==============================] - 0s 2ms/step - loss: 8.6942e-05 - root_mean_squared_error: 0.0093\n",
      "Epoch 15/30\n",
      "5/5 [==============================] - 0s 2ms/step - loss: 6.3935e-05 - root_mean_squared_error: 0.0080\n",
      "Epoch 16/30\n",
      "5/5 [==============================] - 0s 2ms/step - loss: 5.1136e-05 - root_mean_squared_error: 0.0072\n",
      "Epoch 17/30\n",
      "5/5 [==============================] - 0s 2ms/step - loss: 1.0236e-04 - root_mean_squared_error: 0.0101\n",
      "Epoch 18/30\n",
      "5/5 [==============================] - 0s 2ms/step - loss: 1.6299e-04 - root_mean_squared_error: 0.0128\n",
      "Epoch 19/30\n",
      "5/5 [==============================] - 0s 2ms/step - loss: 2.0531e-04 - root_mean_squared_error: 0.0143\n",
      "Epoch 20/30\n",
      "5/5 [==============================] - 0s 2ms/step - loss: 2.5819e-04 - root_mean_squared_error: 0.0161\n",
      "Epoch 21/30\n",
      "5/5 [==============================] - 0s 2ms/step - loss: 2.8536e-04 - root_mean_squared_error: 0.0169\n",
      "Epoch 22/30\n",
      "5/5 [==============================] - 0s 3ms/step - loss: 2.1257e-04 - root_mean_squared_error: 0.0146\n",
      "Epoch 23/30\n",
      "5/5 [==============================] - 0s 3ms/step - loss: 2.2929e-04 - root_mean_squared_error: 0.0151\n",
      "Epoch 24/30\n",
      "5/5 [==============================] - 0s 3ms/step - loss: 1.7535e-04 - root_mean_squared_error: 0.0132\n",
      "Epoch 25/30\n",
      "5/5 [==============================] - 0s 3ms/step - loss: 1.5337e-04 - root_mean_squared_error: 0.0124\n",
      "Epoch 26/30\n",
      "5/5 [==============================] - 0s 3ms/step - loss: 3.3079e-04 - root_mean_squared_error: 0.0182\n",
      "Epoch 27/30\n",
      "5/5 [==============================] - 0s 3ms/step - loss: 6.4289e-04 - root_mean_squared_error: 0.0254\n",
      "Epoch 28/30\n",
      "5/5 [==============================] - 0s 3ms/step - loss: 6.4846e-04 - root_mean_squared_error: 0.0255\n",
      "Epoch 29/30\n",
      "5/5 [==============================] - 0s 3ms/step - loss: 5.5858e-04 - root_mean_squared_error: 0.0236\n",
      "Epoch 30/30\n",
      "5/5 [==============================] - 0s 3ms/step - loss: 2.4056e-04 - root_mean_squared_error: 0.0155\n",
      "每一折验证分数:0.00023379473331183877\n",
      "[==============================] --- kfold\n",
      "Epoch 1/30\n",
      "5/5 [==============================] - 0s 3ms/step - loss: 1.7582e-04 - root_mean_squared_error: 0.0133\n",
      "Epoch 2/30\n",
      "5/5 [==============================] - 0s 3ms/step - loss: 1.6882e-04 - root_mean_squared_error: 0.0130\n",
      "Epoch 3/30\n",
      "5/5 [==============================] - 0s 3ms/step - loss: 1.4547e-04 - root_mean_squared_error: 0.0121\n",
      "Epoch 4/30\n",
      "5/5 [==============================] - 0s 3ms/step - loss: 2.0038e-04 - root_mean_squared_error: 0.0142\n",
      "Epoch 5/30\n",
      "5/5 [==============================] - 0s 3ms/step - loss: 1.9600e-04 - root_mean_squared_error: 0.0140\n",
      "Epoch 6/30\n",
      "5/5 [==============================] - 0s 2ms/step - loss: 1.1824e-04 - root_mean_squared_error: 0.0109\n",
      "Epoch 7/30\n",
      "5/5 [==============================] - 0s 2ms/step - loss: 1.3101e-04 - root_mean_squared_error: 0.0114\n",
      "Epoch 8/30\n",
      "5/5 [==============================] - 0s 2ms/step - loss: 1.3451e-04 - root_mean_squared_error: 0.0116\n",
      "Epoch 9/30\n",
      "5/5 [==============================] - 0s 2ms/step - loss: 1.8395e-04 - root_mean_squared_error: 0.0136\n",
      "Epoch 10/30\n",
      "5/5 [==============================] - 0s 2ms/step - loss: 1.1564e-04 - root_mean_squared_error: 0.0108\n",
      "Epoch 11/30\n",
      "5/5 [==============================] - 0s 2ms/step - loss: 6.3086e-05 - root_mean_squared_error: 0.0079\n",
      "Epoch 12/30\n",
      "5/5 [==============================] - 0s 2ms/step - loss: 1.3884e-04 - root_mean_squared_error: 0.0118\n",
      "Epoch 13/30\n",
      "5/5 [==============================] - 0s 2ms/step - loss: 1.0971e-04 - root_mean_squared_error: 0.0105\n",
      "Epoch 14/30\n",
      "5/5 [==============================] - 0s 3ms/step - loss: 1.5506e-04 - root_mean_squared_error: 0.0125\n",
      "Epoch 15/30\n",
      "5/5 [==============================] - 0s 3ms/step - loss: 1.1612e-04 - root_mean_squared_error: 0.0108\n",
      "Epoch 16/30\n",
      "5/5 [==============================] - 0s 2ms/step - loss: 4.1426e-04 - root_mean_squared_error: 0.0204\n",
      "Epoch 17/30\n",
      "5/5 [==============================] - 0s 3ms/step - loss: 4.4522e-04 - root_mean_squared_error: 0.0211\n",
      "Epoch 18/30\n",
      "5/5 [==============================] - 0s 3ms/step - loss: 4.0183e-04 - root_mean_squared_error: 0.0200\n",
      "Epoch 19/30\n",
      "5/5 [==============================] - 0s 3ms/step - loss: 2.5313e-04 - root_mean_squared_error: 0.0159\n",
      "Epoch 20/30\n",
      "5/5 [==============================] - 0s 3ms/step - loss: 1.4883e-04 - root_mean_squared_error: 0.0122\n",
      "Epoch 21/30\n",
      "5/5 [==============================] - 0s 3ms/step - loss: 1.4764e-04 - root_mean_squared_error: 0.0122\n",
      "Epoch 22/30\n",
      "5/5 [==============================] - ETA: 0s - loss: 5.7268e-05 - root_mean_squared_error: 0.007 - 0s 2ms/step - loss: 1.4520e-04 - root_mean_squared_error: 0.0121\n",
      "Epoch 23/30\n",
      "5/5 [==============================] - 0s 3ms/step - loss: 2.1644e-04 - root_mean_squared_error: 0.0147\n",
      "Epoch 24/30\n",
      "5/5 [==============================] - 0s 3ms/step - loss: 2.9023e-04 - root_mean_squared_error: 0.0170\n",
      "Epoch 25/30\n",
      "5/5 [==============================] - 0s 2ms/step - loss: 3.3442e-04 - root_mean_squared_error: 0.0183\n",
      "Epoch 26/30\n",
      "5/5 [==============================] - 0s 2ms/step - loss: 3.7602e-04 - root_mean_squared_error: 0.0194\n",
      "Epoch 27/30\n",
      "5/5 [==============================] - 0s 2ms/step - loss: 2.1738e-04 - root_mean_squared_error: 0.0147\n",
      "Epoch 28/30\n",
      "5/5 [==============================] - 0s 3ms/step - loss: 1.5792e-04 - root_mean_squared_error: 0.0126\n",
      "Epoch 29/30\n",
      "5/5 [==============================] - 0s 3ms/step - loss: 8.2663e-05 - root_mean_squared_error: 0.0091\n",
      "Epoch 30/30\n",
      "5/5 [==============================] - 0s 3ms/step - loss: 4.6420e-05 - root_mean_squared_error: 0.0068\n",
      "每一折验证分数:4.3940767566873955e-05\n",
      "模型验证分数0.009662321373727495\n"
     ]
    },
    {
     "ename": "NameError",
     "evalue": "name 'test' is not defined",
     "output_type": "error",
     "traceback": [
      "\u001b[0;31m---------------------------------------------------------------------------\u001b[0m",
      "\u001b[0;31mNameError\u001b[0m                                 Traceback (most recent call last)",
      "\u001b[0;32m<ipython-input-379-722d9833d545>\u001b[0m in \u001b[0;36m<module>\u001b[0;34m\u001b[0m\n\u001b[0;32m----> 1\u001b[0;31m \u001b[0mkfold_train\u001b[0m\u001b[0;34m(\u001b[0m\u001b[0mmodel\u001b[0m\u001b[0;34m,\u001b[0m \u001b[0mtrain_data\u001b[0m\u001b[0;34m,\u001b[0m \u001b[0mx_train\u001b[0m\u001b[0;34m,\u001b[0m \u001b[0mx_test\u001b[0m\u001b[0;34m,\u001b[0m \u001b[0;34m\"tf\"\u001b[0m\u001b[0;34m)\u001b[0m\u001b[0;34m\u001b[0m\u001b[0m\n\u001b[0m",
      "\u001b[0;32m<ipython-input-378-8e57033c231a>\u001b[0m in \u001b[0;36mkfold_train\u001b[0;34m(model, train_data, x_train, x_test, model_title)\u001b[0m\n\u001b[1;32m     32\u001b[0m     \u001b[0mprint\u001b[0m\u001b[0;34m(\u001b[0m\u001b[0;34m'模型验证分数'\u001b[0m\u001b[0;34m+\u001b[0m\u001b[0mstr\u001b[0m\u001b[0;34m(\u001b[0m\u001b[0mmath\u001b[0m\u001b[0;34m.\u001b[0m\u001b[0msqrt\u001b[0m\u001b[0;34m(\u001b[0m\u001b[0mscore\u001b[0m\u001b[0;34m/\u001b[0m\u001b[0mn_fold\u001b[0m\u001b[0;34m)\u001b[0m\u001b[0;34m)\u001b[0m\u001b[0;34m)\u001b[0m\u001b[0;34m\u001b[0m\u001b[0m\n\u001b[1;32m     33\u001b[0m     \u001b[0mresult\u001b[0m\u001b[0;34m=\u001b[0m\u001b[0mpd\u001b[0m\u001b[0;34m.\u001b[0m\u001b[0mDataFrame\u001b[0m\u001b[0;34m(\u001b[0m\u001b[0;34m)\u001b[0m\u001b[0;34m\u001b[0m\u001b[0m\n\u001b[0;32m---> 34\u001b[0;31m     \u001b[0mresult\u001b[0m\u001b[0;34m[\u001b[0m\u001b[0;34m'date'\u001b[0m\u001b[0;34m]\u001b[0m\u001b[0;34m=\u001b[0m\u001b[0mtest\u001b[0m\u001b[0;34m[\u001b[0m\u001b[0;34m'日期'\u001b[0m\u001b[0;34m]\u001b[0m\u001b[0;34m\u001b[0m\u001b[0m\n\u001b[0m\u001b[1;32m     35\u001b[0m     \u001b[0mresult\u001b[0m\u001b[0;34m[\u001b[0m\u001b[0;34m'IPRC'\u001b[0m\u001b[0;34m]\u001b[0m\u001b[0;34m=\u001b[0m\u001b[0mmodel_pre\u001b[0m\u001b[0;34m\u001b[0m\u001b[0m\n\u001b[1;32m     36\u001b[0m     \u001b[0mresult\u001b[0m\u001b[0;34m.\u001b[0m\u001b[0mto_csv\u001b[0m\u001b[0;34m(\u001b[0m\u001b[0;34mf'{now}-{model_title}-submit.csv'\u001b[0m\u001b[0;34m,\u001b[0m\u001b[0mindex\u001b[0m\u001b[0;34m=\u001b[0m\u001b[0;32mFalse\u001b[0m\u001b[0;34m)\u001b[0m\u001b[0;31m#保存结果\u001b[0m\u001b[0;34m\u001b[0m\u001b[0m\n",
      "\u001b[0;31mNameError\u001b[0m: name 'test' is not defined"
     ]
    }
   ],
   "source": [
    "kfold_train(model, train_data, x_train, x_test, \"tf\")"
   ]
  },
  {
   "cell_type": "code",
   "execution_count": 370,
   "metadata": {},
   "outputs": [],
   "source": [
    "# answers = []\n",
    "# score = 0\n",
    "# n_fold = 5\n",
    "# folds = KFold(n_splits=n_fold, shuffle=True,random_state=1314)\n",
    "# for fold_n, (train_index, valid_index) in enumerate(folds.split(train_data)):\n",
    "#     print(\"[==============================] --- kfold\")\n",
    "#     X_train, X_valid = x_train[train_index], x_train[valid_index]\n",
    "#     y_train, y_valid = train_data['IPRC'][train_index].values, train_data['IPRC'][valid_index].values\n",
    "# #     y_train = np.array(y_train)\n",
    "#     model.fit(X_train, y_train, batch_size=64, epochs=30, verbose=1)\n",
    "#     y_pre=model.predict(X_valid)\n",
    "#     print('每一折验证分数:'+str(mean_squared_error(y_valid,y_pre)))\n",
    "#     score = score + mean_squared_error(y_valid,y_pre)\n",
    "#     y_pred_valid = model.predict(x_test)\n",
    "#     answers.append(y_pred_valid)"
   ]
  },
  {
   "cell_type": "code",
   "execution_count": 357,
   "metadata": {},
   "outputs": [
    {
     "data": {
      "text/plain": [
       "(293, 8)"
      ]
     },
     "execution_count": 357,
     "metadata": {},
     "output_type": "execute_result"
    }
   ],
   "source": [
    "X_train.shape"
   ]
  },
  {
   "cell_type": "code",
   "execution_count": 371,
   "metadata": {},
   "outputs": [],
   "source": [
    "# np.array(y_train)"
   ]
  },
  {
   "cell_type": "code",
   "execution_count": 319,
   "metadata": {},
   "outputs": [
    {
     "data": {
      "text/plain": [
       "array([ 2.17168779,  1.46391351,  2.17122922,  1.97048821,  2.97623229,\n",
       "        3.31018235,  3.25580701, -1.4521449 ])"
      ]
     },
     "execution_count": 319,
     "metadata": {},
     "output_type": "execute_result"
    }
   ],
   "source": [
    "x_train[0]"
   ]
  },
  {
   "cell_type": "code",
   "execution_count": 298,
   "metadata": {},
   "outputs": [
    {
     "data": {
      "text/html": [
       "<div>\n",
       "<style scoped>\n",
       "    .dataframe tbody tr th:only-of-type {\n",
       "        vertical-align: middle;\n",
       "    }\n",
       "\n",
       "    .dataframe tbody tr th {\n",
       "        vertical-align: top;\n",
       "    }\n",
       "\n",
       "    .dataframe thead th {\n",
       "        text-align: right;\n",
       "    }\n",
       "</style>\n",
       "<table border=\"1\" class=\"dataframe\">\n",
       "  <thead>\n",
       "    <tr style=\"text-align: right;\">\n",
       "      <th></th>\n",
       "      <th>日期</th>\n",
       "      <th>AQI</th>\n",
       "      <th>质量等级</th>\n",
       "      <th>PM2.5</th>\n",
       "      <th>PM10</th>\n",
       "      <th>SO2</th>\n",
       "      <th>CO</th>\n",
       "      <th>NO2</th>\n",
       "      <th>O3_8h</th>\n",
       "      <th>IPRC</th>\n",
       "    </tr>\n",
       "  </thead>\n",
       "  <tbody>\n",
       "    <tr>\n",
       "      <th>0</th>\n",
       "      <td>2016/1/1</td>\n",
       "      <td>293</td>\n",
       "      <td>5</td>\n",
       "      <td>243</td>\n",
       "      <td>324</td>\n",
       "      <td>122</td>\n",
       "      <td>6.1</td>\n",
       "      <td>149</td>\n",
       "      <td>12</td>\n",
       "      <td>2.088378</td>\n",
       "    </tr>\n",
       "    <tr>\n",
       "      <th>1</th>\n",
       "      <td>2016/1/2</td>\n",
       "      <td>430</td>\n",
       "      <td>0</td>\n",
       "      <td>395</td>\n",
       "      <td>517</td>\n",
       "      <td>138</td>\n",
       "      <td>7.5</td>\n",
       "      <td>180</td>\n",
       "      <td>18</td>\n",
       "      <td>3.316942</td>\n",
       "    </tr>\n",
       "    <tr>\n",
       "      <th>2</th>\n",
       "      <td>2016/1/3</td>\n",
       "      <td>332</td>\n",
       "      <td>0</td>\n",
       "      <td>282</td>\n",
       "      <td>405</td>\n",
       "      <td>72</td>\n",
       "      <td>6.3</td>\n",
       "      <td>130</td>\n",
       "      <td>10</td>\n",
       "      <td>2.516425</td>\n",
       "    </tr>\n",
       "    <tr>\n",
       "      <th>3</th>\n",
       "      <td>2016/1/4</td>\n",
       "      <td>204</td>\n",
       "      <td>5</td>\n",
       "      <td>154</td>\n",
       "      <td>237</td>\n",
       "      <td>73</td>\n",
       "      <td>3.5</td>\n",
       "      <td>72</td>\n",
       "      <td>34</td>\n",
       "      <td>1.505693</td>\n",
       "    </tr>\n",
       "    <tr>\n",
       "      <th>4</th>\n",
       "      <td>2016/1/5</td>\n",
       "      <td>169</td>\n",
       "      <td>1</td>\n",
       "      <td>128</td>\n",
       "      <td>186</td>\n",
       "      <td>99</td>\n",
       "      <td>3.2</td>\n",
       "      <td>66</td>\n",
       "      <td>39</td>\n",
       "      <td>1.210233</td>\n",
       "    </tr>\n",
       "  </tbody>\n",
       "</table>\n",
       "</div>"
      ],
      "text/plain": [
       "         日期  AQI  质量等级  PM2.5  PM10  SO2   CO  NO2  O3_8h      IPRC\n",
       "0  2016/1/1  293     5    243   324  122  6.1  149     12  2.088378\n",
       "1  2016/1/2  430     0    395   517  138  7.5  180     18  3.316942\n",
       "2  2016/1/3  332     0    282   405   72  6.3  130     10  2.516425\n",
       "3  2016/1/4  204     5    154   237   73  3.5   72     34  1.505693\n",
       "4  2016/1/5  169     1    128   186   99  3.2   66     39  1.210233"
      ]
     },
     "execution_count": 298,
     "metadata": {},
     "output_type": "execute_result"
    }
   ],
   "source": [
    "X_train.head()"
   ]
  },
  {
   "cell_type": "code",
   "execution_count": null,
   "metadata": {},
   "outputs": [],
   "source": [
    "kfold_train(model)"
   ]
  },
  {
   "cell_type": "code",
   "execution_count": 337,
   "metadata": {},
   "outputs": [
    {
     "name": "stdout",
     "output_type": "stream",
     "text": [
      "Epoch 1/30\n",
      "6/6 [==============================] - 0s 3ms/step - loss: 1.0272 - root_mean_squared_error: 1.0135\n",
      "Epoch 2/30\n",
      "6/6 [==============================] - 0s 3ms/step - loss: 0.3350 - root_mean_squared_error: 0.5788\n",
      "Epoch 3/30\n",
      "6/6 [==============================] - 0s 3ms/step - loss: 0.1136 - root_mean_squared_error: 0.3370\n",
      "Epoch 4/30\n",
      "6/6 [==============================] - 0s 3ms/step - loss: 0.0573 - root_mean_squared_error: 0.2394\n",
      "Epoch 5/30\n",
      "6/6 [==============================] - 0s 3ms/step - loss: 0.0395 - root_mean_squared_error: 0.1987\n",
      "Epoch 6/30\n",
      "6/6 [==============================] - 0s 2ms/step - loss: 0.0235 - root_mean_squared_error: 0.1533\n",
      "Epoch 7/30\n",
      "6/6 [==============================] - 0s 2ms/step - loss: 0.0180 - root_mean_squared_error: 0.1342\n",
      "Epoch 8/30\n",
      "6/6 [==============================] - 0s 3ms/step - loss: 0.0128 - root_mean_squared_error: 0.1130\n",
      "Epoch 9/30\n",
      "6/6 [==============================] - 0s 3ms/step - loss: 0.0099 - root_mean_squared_error: 0.0996\n",
      "Epoch 10/30\n",
      "6/6 [==============================] - 0s 3ms/step - loss: 0.0086 - root_mean_squared_error: 0.0927\n",
      "Epoch 11/30\n",
      "6/6 [==============================] - 0s 3ms/step - loss: 0.0073 - root_mean_squared_error: 0.0856\n",
      "Epoch 12/30\n",
      "6/6 [==============================] - 0s 3ms/step - loss: 0.0069 - root_mean_squared_error: 0.0831\n",
      "Epoch 13/30\n",
      "6/6 [==============================] - 0s 3ms/step - loss: 0.0065 - root_mean_squared_error: 0.0807\n",
      "Epoch 14/30\n",
      "6/6 [==============================] - 0s 3ms/step - loss: 0.0049 - root_mean_squared_error: 0.0703\n",
      "Epoch 15/30\n",
      "6/6 [==============================] - 0s 3ms/step - loss: 0.0044 - root_mean_squared_error: 0.0664\n",
      "Epoch 16/30\n",
      "6/6 [==============================] - 0s 3ms/step - loss: 0.0040 - root_mean_squared_error: 0.0634\n",
      "Epoch 17/30\n",
      "6/6 [==============================] - ETA: 0s - loss: 0.0037 - root_mean_squared_error: 0.061 - 0s 3ms/step - loss: 0.0036 - root_mean_squared_error: 0.0596\n",
      "Epoch 18/30\n",
      "6/6 [==============================] - 0s 3ms/step - loss: 0.0031 - root_mean_squared_error: 0.0561\n",
      "Epoch 19/30\n",
      "6/6 [==============================] - 0s 3ms/step - loss: 0.0027 - root_mean_squared_error: 0.0519\n",
      "Epoch 20/30\n",
      "6/6 [==============================] - 0s 2ms/step - loss: 0.0024 - root_mean_squared_error: 0.0491\n",
      "Epoch 21/30\n",
      "6/6 [==============================] - 0s 2ms/step - loss: 0.0022 - root_mean_squared_error: 0.0468\n",
      "Epoch 22/30\n",
      "6/6 [==============================] - 0s 3ms/step - loss: 0.0019 - root_mean_squared_error: 0.0441\n",
      "Epoch 23/30\n",
      "6/6 [==============================] - 0s 3ms/step - loss: 0.0017 - root_mean_squared_error: 0.0415\n",
      "Epoch 24/30\n",
      "6/6 [==============================] - 0s 3ms/step - loss: 0.0016 - root_mean_squared_error: 0.0399\n",
      "Epoch 25/30\n",
      "6/6 [==============================] - 0s 3ms/step - loss: 0.0014 - root_mean_squared_error: 0.0376\n",
      "Epoch 26/30\n",
      "6/6 [==============================] - 0s 3ms/step - loss: 0.0014 - root_mean_squared_error: 0.0369\n",
      "Epoch 27/30\n",
      "6/6 [==============================] - 0s 2ms/step - loss: 0.0012 - root_mean_squared_error: 0.0341\n",
      "Epoch 28/30\n",
      "6/6 [==============================] - 0s 2ms/step - loss: 0.0011 - root_mean_squared_error: 0.0335\n",
      "Epoch 29/30\n",
      "6/6 [==============================] - 0s 3ms/step - loss: 0.0010 - root_mean_squared_error: 0.0320\n",
      "Epoch 30/30\n",
      "6/6 [==============================] - 0s 3ms/step - loss: 9.7406e-04 - root_mean_squared_error: 0.0312\n"
     ]
    },
    {
     "data": {
      "text/plain": [
       "<tensorflow.python.keras.callbacks.History at 0x7f83cb154470>"
      ]
     },
     "execution_count": 337,
     "metadata": {},
     "output_type": "execute_result"
    }
   ],
   "source": [
    "model.fit(x_train, y_train, batch_size=64, epochs=30, verbose=1)"
   ]
  },
  {
   "cell_type": "code",
   "execution_count": 200,
   "metadata": {},
   "outputs": [
    {
     "data": {
      "text/plain": [
       "array([ 2.17122922,  1.97048821,  2.97623229,  3.31018235,  3.25580701,\n",
       "       -1.4521449 ])"
      ]
     },
     "execution_count": 200,
     "metadata": {},
     "output_type": "execute_result"
    }
   ],
   "source": [
    "x_train[0]"
   ]
  },
  {
   "cell_type": "code",
   "execution_count": 198,
   "metadata": {},
   "outputs": [
    {
     "data": {
      "text/plain": [
       "(6,)"
      ]
     },
     "execution_count": 198,
     "metadata": {},
     "output_type": "execute_result"
    }
   ],
   "source": [
    "x_test[0].shape"
   ]
  },
  {
   "cell_type": "code",
   "execution_count": 205,
   "metadata": {},
   "outputs": [],
   "source": [
    "# model.predict(x_test)"
   ]
  },
  {
   "cell_type": "code",
   "execution_count": 228,
   "metadata": {},
   "outputs": [
    {
     "data": {
      "text/plain": [
       "array([[0.375]], dtype=float32)"
      ]
     },
     "execution_count": 228,
     "metadata": {},
     "output_type": "execute_result"
    }
   ],
   "source": [
    "model.predict(x_test[0].reshape(1, 6)).round(3)"
   ]
  },
  {
   "cell_type": "code",
   "execution_count": 229,
   "metadata": {},
   "outputs": [],
   "source": [
    "tf_y_pred = model.predict(x_test)"
   ]
  },
  {
   "cell_type": "code",
   "execution_count": 207,
   "metadata": {},
   "outputs": [
    {
     "data": {
      "text/plain": [
       "(366, 1)"
      ]
     },
     "execution_count": 207,
     "metadata": {},
     "output_type": "execute_result"
    }
   ],
   "source": [
    "tf_y_pred.shape"
   ]
  },
  {
   "cell_type": "code",
   "execution_count": 237,
   "metadata": {},
   "outputs": [
    {
     "data": {
      "text/plain": [
       "Int64Index([0, 1], dtype='int64')"
      ]
     },
     "execution_count": 237,
     "metadata": {},
     "output_type": "execute_result"
    }
   ],
   "source": [
    "# tf_y_pred\n",
    "tf_y_pred_v1 = pd.read_csv(\"./tf_submit.csv\", header=None)\n",
    "tf_y_pred_v1.columns"
   ]
  },
  {
   "cell_type": "code",
   "execution_count": 251,
   "metadata": {},
   "outputs": [],
   "source": [
    "# tf_y_pred_v1.values[:, 1]"
   ]
  },
  {
   "cell_type": "code",
   "execution_count": 255,
   "metadata": {},
   "outputs": [
    {
     "data": {
      "text/plain": [
       "(366, 1)"
      ]
     },
     "execution_count": 255,
     "metadata": {},
     "output_type": "execute_result"
    }
   ],
   "source": [
    "tf_y_pred.shape"
   ]
  },
  {
   "cell_type": "code",
   "execution_count": 258,
   "metadata": {},
   "outputs": [
    {
     "data": {
      "text/plain": [
       "(366, 1)"
      ]
     },
     "execution_count": 258,
     "metadata": {},
     "output_type": "execute_result"
    }
   ],
   "source": [
    "tf_y_pred_v1.values[:, 1].reshape(x_test.shape[0], 1).shape"
   ]
  },
  {
   "cell_type": "code",
   "execution_count": 259,
   "metadata": {},
   "outputs": [
    {
     "data": {
      "text/plain": [
       "1.468087638531257"
      ]
     },
     "execution_count": 259,
     "metadata": {},
     "output_type": "execute_result"
    }
   ],
   "source": [
    "np.sum(np.power((tf_y_pred - tf_y_pred_v1.values[:, 1].reshape(x_test.shape[0], 1)), 2))"
   ]
  },
  {
   "cell_type": "code",
   "execution_count": null,
   "metadata": {},
   "outputs": [],
   "source": []
  },
  {
   "cell_type": "code",
   "execution_count": 209,
   "metadata": {},
   "outputs": [],
   "source": [
    "# tf_y_pred"
   ]
  },
  {
   "cell_type": "code",
   "execution_count": null,
   "metadata": {},
   "outputs": [],
   "source": [
    "# tf_y_pred"
   ]
  },
  {
   "cell_type": "code",
   "execution_count": 212,
   "metadata": {},
   "outputs": [],
   "source": [
    "import csv"
   ]
  },
  {
   "cell_type": "code",
   "execution_count": null,
   "metadata": {},
   "outputs": [],
   "source": []
  },
  {
   "cell_type": "code",
   "execution_count": 219,
   "metadata": {},
   "outputs": [],
   "source": [
    "f = open('tf_submit.csv', \"w\")\n",
    "w = csv.writer(f)\n",
    "title = [\"date\", \"IPRC\"]\n",
    "for i in range(x_test.shape[0]):\n",
    "    \n",
    "    content = ['date' + str(i), tf_y_pred[i][0]]\n",
    "    w.writerow(content)"
   ]
  },
  {
   "cell_type": "code",
   "execution_count": null,
   "metadata": {},
   "outputs": [],
   "source": []
  },
  {
   "cell_type": "code",
   "execution_count": null,
   "metadata": {},
   "outputs": [],
   "source": [
    "result=pd.DataFrame()\n",
    "result['date']=test_data['日期']\n",
    "result['IPRC']=y_pred\n",
    "result.to_csv('空气质量.csv',index=False)#保存结果"
   ]
  },
  {
   "cell_type": "code",
   "execution_count": null,
   "metadata": {},
   "outputs": [],
   "source": []
  }
 ],
 "metadata": {
  "kernelspec": {
   "display_name": "cic_upgrade_env",
   "language": "python",
   "name": "cic_upgrade_env"
  },
  "language_info": {
   "codemirror_mode": {
    "name": "ipython",
    "version": 3
   },
   "file_extension": ".py",
   "mimetype": "text/x-python",
   "name": "python",
   "nbconvert_exporter": "python",
   "pygments_lexer": "ipython3",
   "version": "3.6.6"
  }
 },
 "nbformat": 4,
 "nbformat_minor": 4
}
